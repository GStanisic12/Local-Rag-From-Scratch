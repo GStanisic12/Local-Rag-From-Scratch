{
 "cells": [
  {
   "cell_type": "markdown",
   "metadata": {},
   "source": [
    "# Create and Run a Local RAG Pipeline From Scratch\n",
    "The goal here is to build a RAG pipeline from scratch so that we can get generative answers on our custom documents. There are existing frameworks to build from like llamaindex and langchain, but in this session we will build it out from scratch to learn ourselves and get a better understanding of RAG.\n",
    "## What is RAG?\n",
    "Retrieval Augmented Generation (RAG) is a way we can improve the outputs of an LLM by grounding it in relevant, factual information. There are three components to RAG:\n",
    "1. Retrieval: Based on the user's input prompt, search an existing database and find the most relevant knowledge sources.\n",
    "2. Augmentation: Augment the user's prompt with snippets of that relevant data from the retrieved sources.\n",
    "3. Generation: Use LLMs to provide an answer using the augmented prompt.\n",
    "\n",
    "In short, we are `CTRL+F`'ing across a huge database and then using whatever relevant info we find to generate a useful answer in natural language that may feel more right to the user than what is explicitly stated in the knowledge source\n",
    "\n",
    "## Why RAG?\n",
    "Like mentioned before, it improves the LLM in two significant ways:\n",
    "1. Reduces hallucination by grounding the model in factual information\n",
    "2. Provides knowledge of custom, never-before-seen data to the model so it can generate more relevant answers.\n",
    "\n",
    "## What can RAG be used for?\n",
    "1. Customer support Q&A\n",
    "2. Email Chain Analysis\n",
    "3. Company internal documentation chat (onboarding, HR, employee policy, inside sales, etc.)\n",
    "4. Textbook Q&A - for students\n",
    "\n",
    "The common things is to take your relevant documents to a query and use your LLM to process them. **LLM is like a calculator for words.**\n",
    "\n",
    "## Why should we run this locally?\n",
    "ChatGPT is already good enough right? Why would we run it here (besides fun)?\n",
    "\n",
    "1. Privacy: All of the documentation we use on a local RAG pipeline remains on our system and not get sent up to the big data companies. *Note there are ways to get around this with using larger models like Mistral that don't collect our information for training but we are still putting information up in the cloud which can be risky*. \n",
    "2. Speed: Need to wait for an API to run and you need access to the internet.\n",
    "3. Cost: If you own your own hardware, the cost is already paid for.\n",
    "4. No vendor lock-in. If OpenAI, Anthropic, Google, etc. decide to shut down API or change their processes, we have no risk of losing our functionality."
   ]
  },
  {
   "cell_type": "markdown",
   "metadata": {
    "vscode": {
     "languageId": "plaintext"
    }
   },
   "source": [
    "## What we're going to build\n",
    "We're going to build a NutriChat to \"chat with a nutrition textbook\".\n",
    "Specifically:\n",
    "1. Open a PDF document\n",
    "2. Format all of the PDF textbook (chunk it) ready for an embedding model.\n",
    "3. Embed all of the chunks of the text and turn them into numerical representations (embedding) which can be stored for later.\n",
    "4. Build a retrieval system that uses vector search (semantic search) to find relevant chunks based on the user query.\n",
    "5. Augment the prompt to incorporate the retrieved pieces of text.\n",
    "6. Generate an answer to the original propmpt based on the passages of the textbook using an LLM.\n",
    "\n",
    "**ALL LOCALLY**\n",
    "1. Steps 1-3 document preprocessing and indexing\n",
    "2. Steps 4-6 search & answer"
   ]
  },
  {
   "cell_type": "markdown",
   "metadata": {},
   "source": [
    "## 1. Document preprocessing and index\n",
    "Ingredients:\n",
    "- PDF document of choice (could be any specific document, clump of documents, etc.)\n",
    "- Embedding model of choice\n",
    "\n",
    "1. Import PDF Document\n",
    "2. Process text to spilt into chunks (look at a few ways to process our PDF)\n",
    "3. Embed text chunks using our embedding model\n",
    "4. Store embeddings to file for later use"
   ]
  },
  {
   "cell_type": "markdown",
   "metadata": {},
   "source": [
    "### 1.1 Import PDF Document"
   ]
  },
  {
   "cell_type": "code",
   "execution_count": 46,
   "metadata": {},
   "outputs": [
    {
     "name": "stdout",
     "output_type": "stream",
     "text": [
      "File human-nutrition-text.pdf already exists.\n"
     ]
    }
   ],
   "source": [
    "import os\n",
    "import requests\n",
    "\n",
    "# Get PDF document path\n",
    "# pdf_path = \"Alro-Metals-Guide.pdf\"\n",
    "pdf_path = \"human-nutrition-text.pdf\"\n",
    "\n",
    "# Download\n",
    "if not os.path.exists(pdf_path):\n",
    "    print(\"[INFO] FILE doesn't exist, downloading...\")\n",
    "\n",
    "    url = \"https://www.alro.com/Resources/WebResources/AlroCom/MetalsGuideCatalog/PDFs/MetalsGuide-May2020.pdf\"\n",
    "\n",
    "    file_name = pdf_path\n",
    "\n",
    "    response = requests.get(url)\n",
    "\n",
    "    if response.status_code == 200:\n",
    "        with open(file_name, \"wb\") as file:\n",
    "            file.write(response.content)\n",
    "        print(f\"[INFO] The file has been downloaded and saved as {file_name}\")\n",
    "    else:\n",
    "        print(f\"[INFO] The file failed to download. Status code: {response.status_code}\")\n",
    "\n",
    "else:\n",
    "    print(f\"File {pdf_path} already exists.\")\n"
   ]
  },
  {
   "cell_type": "markdown",
   "metadata": {},
   "source": [
    "## 1.2 Process Text to Split into Chunks\n",
    "We've got a PDF, now let's open it and \"chunk\" it up!"
   ]
  },
  {
   "cell_type": "code",
   "execution_count": 47,
   "metadata": {},
   "outputs": [
    {
     "data": {
      "application/vnd.jupyter.widget-view+json": {
       "model_id": "2c33a97327174bd48106dd6a496d4351",
       "version_major": 2,
       "version_minor": 0
      },
      "text/plain": [
       "0it [00:00, ?it/s]"
      ]
     },
     "metadata": {},
     "output_type": "display_data"
    }
   ],
   "source": [
    "import fitz # requires !pip install PyMuPDF (fitz is a legacy name)\n",
    "from tqdm.auto import tqdm \n",
    "\n",
    "def text_formatter(text: str) -> str:\n",
    "    \"Performs minor formatting on text.\"\n",
    "    cleaned_text = text.replace(\"\\n\", \" \").strip()\n",
    "\n",
    "    # Potentially more text formatting functions can go here if needed\n",
    "    return cleaned_text\n",
    "\n",
    "def open_and_read_pdf(pdf_path:str) -> list[dict]:\n",
    "    doc = fitz.open(pdf_path)\n",
    "    pages_and_text = []\n",
    "    for page_number, page in tqdm(enumerate(doc)):\n",
    "        text = page.get_text()\n",
    "        text = text_formatter(text=text)\n",
    "        pages_and_text.append({\"page_number\": page_number - 41,\n",
    "                               \"page_char_count\": len(text),\n",
    "                               \"page_word_count\": len(text.split(\" \")),\n",
    "                               \"page_sentence_count_raw\": len(text.split(\". \")),\n",
    "                               \"page_token_count\": len(text) / 4, # 1 token is ~ 4 characters in english\n",
    "                               \"text\": text\n",
    "                               })\n",
    "    return pages_and_text\n",
    "pages_and_texts = open_and_read_pdf(pdf_path=pdf_path)"
   ]
  },
  {
   "cell_type": "code",
   "execution_count": 48,
   "metadata": {},
   "outputs": [
    {
     "data": {
      "text/plain": [
       "[{'page_number': 633,\n",
       "  'page_char_count': 913,\n",
       "  'page_word_count': 208,\n",
       "  'page_sentence_count_raw': 17,\n",
       "  'page_token_count': 228.25,\n",
       "  'text': 'Foods  Serving Phosphorus  (mg)  Percent Daily Value  1000  Salmon  3 oz.  315  32  Yogurt, nonfat  8 oz.  306  31  Turkey, light meat  3 oz.  217  22  Chicken, light meat  3 oz.  135  14  Beef  3 oz.  179  18  Lentils*  ½ c.  178  18  Almonds*  1 oz.  136  14  Mozzarella  1 oz.  131  13  Peanuts*  1 oz.  108  11  Whole wheat bread  1 slice  68  7  Egg  1 large  86  9  Carbonated cola  drink  12 oz.  41  4  Bread, enriched  1 slice  25  3  Micronutrient Information Center: Phosphorus. Oregon State  University, Linus Pauling Institute. http://lpi.oregonstate.edu/mic/ minerals/phosphorus. Updated in July 2013. Accessed October 22,  2017.  Learning Activities  Technology Note: The second edition of the Human  Nutrition Open Educational Resource (OER) textbook  features interactive learning activities.  These activities are  available in the web-based textbook and not available in the  Phosphorus  |  633'},\n",
       " {'page_number': 674,\n",
       "  'page_char_count': 295,\n",
       "  'page_word_count': 53,\n",
       "  'page_sentence_count_raw': 3,\n",
       "  'page_token_count': 73.75,\n",
       "  'text': 'recommended that users complete these activities using a  desktop or laptop computer and in Google Chrome.    An interactive or media element has been  excluded from this version of the text. You can  view it online here:  http://pressbooks.oer.hawaii.edu/ humannutrition2/?p=386    674  |  Zinc'},\n",
       " {'page_number': 620,\n",
       "  'page_char_count': 1398,\n",
       "  'page_word_count': 235,\n",
       "  'page_sentence_count_raw': 19,\n",
       "  'page_token_count': 349.5,\n",
       "  'text': 'in calcium absorption. During the first years of menopause,  annual decreases in bone mass range from 3–5 percent. After  age sixty-five, decreases are typically less than 1 percent.7  • Lactose-intolerant people. Groups of people, such as those  who are lactose intolerant, or who adhere to diets that avoid  dairy products, may not have an adequate calcium intake.  • Vegans. Vegans typically absorb reduced amounts of calcium  because their diets favor plant-based foods that contain  oxalates and phytates.8  In addition, because vegans avoid dairy products, their overall  consumption of calcium-rich foods may be less.  If you are lactose intolerant, have a milk allergy, are a vegan, or  you simply do not like dairy products, remember that there are  many plant-based foods that have a good amount of calcium and  there are also some low-lactose and lactose-free dairy products on  the market.  Calcium Supplements: Which One to Buy?  Many people choose to fulfill their daily calcium requirements by  taking calcium supplements. Calcium supplements are sold  7. Daniels CE. (2000). Estrogen Therapy for Osteoporosis  Prevention in Postmenopausal Women. National  Institute of Health: Pharmacy. Update March/April  2000.  8. Dietary Reference Intakes for Calcium and Vitamin  D.Food and Nutrition Board, Institute of Medicine.  Washington, DC: National Academy Press. 2010.  620  |  Calcium'}]"
      ]
     },
     "execution_count": 48,
     "metadata": {},
     "output_type": "execute_result"
    }
   ],
   "source": [
    "import random\n",
    "random.sample(pages_and_texts, k=3)"
   ]
  },
  {
   "cell_type": "code",
   "execution_count": 49,
   "metadata": {},
   "outputs": [
    {
     "data": {
      "text/html": [
       "<div>\n",
       "<style scoped>\n",
       "    .dataframe tbody tr th:only-of-type {\n",
       "        vertical-align: middle;\n",
       "    }\n",
       "\n",
       "    .dataframe tbody tr th {\n",
       "        vertical-align: top;\n",
       "    }\n",
       "\n",
       "    .dataframe thead th {\n",
       "        text-align: right;\n",
       "    }\n",
       "</style>\n",
       "<table border=\"1\" class=\"dataframe\">\n",
       "  <thead>\n",
       "    <tr style=\"text-align: right;\">\n",
       "      <th></th>\n",
       "      <th>page_number</th>\n",
       "      <th>page_char_count</th>\n",
       "      <th>page_word_count</th>\n",
       "      <th>page_sentence_count_raw</th>\n",
       "      <th>page_token_count</th>\n",
       "    </tr>\n",
       "  </thead>\n",
       "  <tbody>\n",
       "    <tr>\n",
       "      <th>count</th>\n",
       "      <td>1208.00</td>\n",
       "      <td>1208.00</td>\n",
       "      <td>1208.00</td>\n",
       "      <td>1208.00</td>\n",
       "      <td>1208.00</td>\n",
       "    </tr>\n",
       "    <tr>\n",
       "      <th>mean</th>\n",
       "      <td>562.50</td>\n",
       "      <td>1148.00</td>\n",
       "      <td>199.50</td>\n",
       "      <td>10.52</td>\n",
       "      <td>287.00</td>\n",
       "    </tr>\n",
       "    <tr>\n",
       "      <th>std</th>\n",
       "      <td>348.86</td>\n",
       "      <td>560.38</td>\n",
       "      <td>95.83</td>\n",
       "      <td>6.55</td>\n",
       "      <td>140.10</td>\n",
       "    </tr>\n",
       "    <tr>\n",
       "      <th>min</th>\n",
       "      <td>-41.00</td>\n",
       "      <td>0.00</td>\n",
       "      <td>1.00</td>\n",
       "      <td>1.00</td>\n",
       "      <td>0.00</td>\n",
       "    </tr>\n",
       "    <tr>\n",
       "      <th>25%</th>\n",
       "      <td>260.75</td>\n",
       "      <td>762.00</td>\n",
       "      <td>134.00</td>\n",
       "      <td>5.00</td>\n",
       "      <td>190.50</td>\n",
       "    </tr>\n",
       "    <tr>\n",
       "      <th>50%</th>\n",
       "      <td>562.50</td>\n",
       "      <td>1231.50</td>\n",
       "      <td>216.00</td>\n",
       "      <td>10.00</td>\n",
       "      <td>307.88</td>\n",
       "    </tr>\n",
       "    <tr>\n",
       "      <th>75%</th>\n",
       "      <td>864.25</td>\n",
       "      <td>1603.50</td>\n",
       "      <td>272.00</td>\n",
       "      <td>15.00</td>\n",
       "      <td>400.88</td>\n",
       "    </tr>\n",
       "    <tr>\n",
       "      <th>max</th>\n",
       "      <td>1166.00</td>\n",
       "      <td>2308.00</td>\n",
       "      <td>430.00</td>\n",
       "      <td>39.00</td>\n",
       "      <td>577.00</td>\n",
       "    </tr>\n",
       "  </tbody>\n",
       "</table>\n",
       "</div>"
      ],
      "text/plain": [
       "       page_number  page_char_count  page_word_count  page_sentence_count_raw  \\\n",
       "count      1208.00          1208.00          1208.00                  1208.00   \n",
       "mean        562.50          1148.00           199.50                    10.52   \n",
       "std         348.86           560.38            95.83                     6.55   \n",
       "min         -41.00             0.00             1.00                     1.00   \n",
       "25%         260.75           762.00           134.00                     5.00   \n",
       "50%         562.50          1231.50           216.00                    10.00   \n",
       "75%         864.25          1603.50           272.00                    15.00   \n",
       "max        1166.00          2308.00           430.00                    39.00   \n",
       "\n",
       "       page_token_count  \n",
       "count           1208.00  \n",
       "mean             287.00  \n",
       "std              140.10  \n",
       "min                0.00  \n",
       "25%              190.50  \n",
       "50%              307.88  \n",
       "75%              400.88  \n",
       "max              577.00  "
      ]
     },
     "execution_count": 49,
     "metadata": {},
     "output_type": "execute_result"
    }
   ],
   "source": [
    "import pandas as pd\n",
    "df = pd.DataFrame(pages_and_texts)\n",
    "df.head()\n",
    "df.describe().round(2)"
   ]
  },
  {
   "cell_type": "markdown",
   "metadata": {},
   "source": [
    "Why do we care about token count?\n",
    "1. Embedding models don't deal with infinite tokens\n",
    "2. LLMs don't deal with infinite tokens. Even if they did, we have the lost-in-the-middle problem.\n",
    "3. Tokens cost money if we are running APIs for costed models.\n",
    "For example, an embedding model may have a token limit (max sequence length) of 384. As for LLMs, they can't accept unlimited tokens in their context window."
   ]
  },
  {
   "cell_type": "markdown",
   "metadata": {},
   "source": [
    "### Further Text processing (splitting  pages into sentences)\n",
    "Two ways to do this:\n",
    "1. We've done this by splitting on `\". \"`, which may not be as robust.\n",
    "2. We can do this with an NLP library such as spaCy and nltk."
   ]
  },
  {
   "cell_type": "code",
   "execution_count": 50,
   "metadata": {},
   "outputs": [
    {
     "data": {
      "text/plain": [
       "[This is a sentence., This is a second sentence., How about a third one?]"
      ]
     },
     "execution_count": 50,
     "metadata": {},
     "output_type": "execute_result"
    }
   ],
   "source": [
    "from spacy.lang.en import English\n",
    "nlp = English()\n",
    "\n",
    "# Add a sentencizer pipeline\n",
    "nlp.add_pipe(\"sentencizer\")\n",
    "\n",
    "# Create a document instance as an example\n",
    "doc = nlp(\"This is a sentence. This is a second sentence. How about a third one?\")\n",
    "assert len(list(doc.sents)) == 3\n",
    "list(doc.sents)"
   ]
  },
  {
   "cell_type": "code",
   "execution_count": 51,
   "metadata": {},
   "outputs": [
    {
     "data": {
      "text/plain": [
       "[{'page_number': 949,\n",
       "  'page_char_count': 385,\n",
       "  'page_word_count': 63,\n",
       "  'page_sentence_count_raw': 3,\n",
       "  'page_token_count': 96.25,\n",
       "  'text': 'An interactive or media element has been  excluded from this version of the text. You can  view it online here:  http://pressbooks.oer.hawaii.edu/ humannutrition2/?p=496    An interactive or media element has been  excluded from this version of the text. You can  view it online here:  http://pressbooks.oer.hawaii.edu/ humannutrition2/?p=496  The Benefits of Physical Activity  |  949'}]"
      ]
     },
     "execution_count": 51,
     "metadata": {},
     "output_type": "execute_result"
    }
   ],
   "source": [
    "random.sample(pages_and_texts, k=1)"
   ]
  },
  {
   "cell_type": "code",
   "execution_count": 52,
   "metadata": {},
   "outputs": [
    {
     "data": {
      "application/vnd.jupyter.widget-view+json": {
       "model_id": "6ff7b95bd766428b8dcf46e6224fd048",
       "version_major": 2,
       "version_minor": 0
      },
      "text/plain": [
       "  0%|          | 0/1208 [00:00<?, ?it/s]"
      ]
     },
     "metadata": {},
     "output_type": "display_data"
    }
   ],
   "source": [
    "for item in tqdm(pages_and_texts):\n",
    "    item[\"sentences\"] = list(nlp(item[\"text\"]).sents)\n",
    "\n",
    "    # Make sure all sentences are strings (the default type is a spaCy datatype)\n",
    "    item[\"sentences\"] = [str(sentence) for sentence in item[\"sentences\"]]\n",
    "\n",
    "    # count the sentences\n",
    "    item[\"page_sentence_count_spacy\"] = len(item[\"sentences\"])"
   ]
  },
  {
   "cell_type": "code",
   "execution_count": 53,
   "metadata": {},
   "outputs": [
    {
     "data": {
      "text/html": [
       "<div>\n",
       "<style scoped>\n",
       "    .dataframe tbody tr th:only-of-type {\n",
       "        vertical-align: middle;\n",
       "    }\n",
       "\n",
       "    .dataframe tbody tr th {\n",
       "        vertical-align: top;\n",
       "    }\n",
       "\n",
       "    .dataframe thead th {\n",
       "        text-align: right;\n",
       "    }\n",
       "</style>\n",
       "<table border=\"1\" class=\"dataframe\">\n",
       "  <thead>\n",
       "    <tr style=\"text-align: right;\">\n",
       "      <th></th>\n",
       "      <th>page_number</th>\n",
       "      <th>page_char_count</th>\n",
       "      <th>page_word_count</th>\n",
       "      <th>page_sentence_count_raw</th>\n",
       "      <th>page_token_count</th>\n",
       "      <th>page_sentence_count_spacy</th>\n",
       "    </tr>\n",
       "  </thead>\n",
       "  <tbody>\n",
       "    <tr>\n",
       "      <th>count</th>\n",
       "      <td>1208.00</td>\n",
       "      <td>1208.00</td>\n",
       "      <td>1208.00</td>\n",
       "      <td>1208.00</td>\n",
       "      <td>1208.00</td>\n",
       "      <td>1208.00</td>\n",
       "    </tr>\n",
       "    <tr>\n",
       "      <th>mean</th>\n",
       "      <td>562.50</td>\n",
       "      <td>1148.00</td>\n",
       "      <td>199.50</td>\n",
       "      <td>10.52</td>\n",
       "      <td>287.00</td>\n",
       "      <td>10.32</td>\n",
       "    </tr>\n",
       "    <tr>\n",
       "      <th>std</th>\n",
       "      <td>348.86</td>\n",
       "      <td>560.38</td>\n",
       "      <td>95.83</td>\n",
       "      <td>6.55</td>\n",
       "      <td>140.10</td>\n",
       "      <td>6.30</td>\n",
       "    </tr>\n",
       "    <tr>\n",
       "      <th>min</th>\n",
       "      <td>-41.00</td>\n",
       "      <td>0.00</td>\n",
       "      <td>1.00</td>\n",
       "      <td>1.00</td>\n",
       "      <td>0.00</td>\n",
       "      <td>0.00</td>\n",
       "    </tr>\n",
       "    <tr>\n",
       "      <th>25%</th>\n",
       "      <td>260.75</td>\n",
       "      <td>762.00</td>\n",
       "      <td>134.00</td>\n",
       "      <td>5.00</td>\n",
       "      <td>190.50</td>\n",
       "      <td>5.00</td>\n",
       "    </tr>\n",
       "    <tr>\n",
       "      <th>50%</th>\n",
       "      <td>562.50</td>\n",
       "      <td>1231.50</td>\n",
       "      <td>216.00</td>\n",
       "      <td>10.00</td>\n",
       "      <td>307.88</td>\n",
       "      <td>10.00</td>\n",
       "    </tr>\n",
       "    <tr>\n",
       "      <th>75%</th>\n",
       "      <td>864.25</td>\n",
       "      <td>1603.50</td>\n",
       "      <td>272.00</td>\n",
       "      <td>15.00</td>\n",
       "      <td>400.88</td>\n",
       "      <td>15.00</td>\n",
       "    </tr>\n",
       "    <tr>\n",
       "      <th>max</th>\n",
       "      <td>1166.00</td>\n",
       "      <td>2308.00</td>\n",
       "      <td>430.00</td>\n",
       "      <td>39.00</td>\n",
       "      <td>577.00</td>\n",
       "      <td>28.00</td>\n",
       "    </tr>\n",
       "  </tbody>\n",
       "</table>\n",
       "</div>"
      ],
      "text/plain": [
       "       page_number  page_char_count  page_word_count  page_sentence_count_raw  \\\n",
       "count      1208.00          1208.00          1208.00                  1208.00   \n",
       "mean        562.50          1148.00           199.50                    10.52   \n",
       "std         348.86           560.38            95.83                     6.55   \n",
       "min         -41.00             0.00             1.00                     1.00   \n",
       "25%         260.75           762.00           134.00                     5.00   \n",
       "50%         562.50          1231.50           216.00                    10.00   \n",
       "75%         864.25          1603.50           272.00                    15.00   \n",
       "max        1166.00          2308.00           430.00                    39.00   \n",
       "\n",
       "       page_token_count  page_sentence_count_spacy  \n",
       "count           1208.00                    1208.00  \n",
       "mean             287.00                      10.32  \n",
       "std              140.10                       6.30  \n",
       "min                0.00                       0.00  \n",
       "25%              190.50                       5.00  \n",
       "50%              307.88                      10.00  \n",
       "75%              400.88                      15.00  \n",
       "max              577.00                      28.00  "
      ]
     },
     "execution_count": 53,
     "metadata": {},
     "output_type": "execute_result"
    }
   ],
   "source": [
    "random.sample(pages_and_texts, k=1)\n",
    "df = pd.DataFrame(pages_and_texts)\n",
    "df.describe().round(2)"
   ]
  },
  {
   "cell_type": "markdown",
   "metadata": {},
   "source": [
    "### Chunking our sentences together\n",
    "\n",
    "The concept of splitting larger pieces of text into smaller ones is often referred to as text splitting or chunking.\n",
    "There is no 100% correct way to do it, this is an active area of research.\n",
    "We'll keep it simple and split it into groups of 10 sentences. You could try 5, 7, 8. You can do number of characters instead of sentences. You can do overlapping, etc. \n",
    "\n",
    "LangChain is a great package for us to do this with, but we will do it with just pure python for now.\n",
    "\n",
    "Why we do this:\n",
    "1. So our texts are easier to filter (smaller groups of text, easier to inspect than large)\n",
    "2. So our text chunks can fit into our embedding model token size (e.g., 384 tokens)\n",
    "3. So our context passed to LLM is specific and focused, and within the token input limit."
   ]
  },
  {
   "cell_type": "code",
   "execution_count": 54,
   "metadata": {},
   "outputs": [
    {
     "data": {
      "text/plain": [
       "[[0, 1, 2, 3, 4, 5, 6, 7, 8, 9],\n",
       " [10, 11, 12, 13, 14, 15, 16, 17, 18, 19],\n",
       " [20, 21, 22, 23, 24]]"
      ]
     },
     "execution_count": 54,
     "metadata": {},
     "output_type": "execute_result"
    }
   ],
   "source": [
    "# Define split size to turn groups of sentecnes into chunks\n",
    "num_sentence_chunk_size = 10\n",
    "\n",
    "# Create function to split lists of texts recursively into chunk size\n",
    "# e.g., list of 20 - > two lists of 10. ([20]-> [10, 10], [25] -> [10, 10, 5])\n",
    "def split_list(input_list: list[str], slice_size: int=num_sentence_chunk_size) -> list[list[str]]:\n",
    "    return [input_list[i:i+slice_size] for i in range(0, len(input_list), slice_size)]\n",
    "\n",
    "test_list = list(range(25))\n",
    "split_list(test_list)"
   ]
  },
  {
   "cell_type": "code",
   "execution_count": 55,
   "metadata": {},
   "outputs": [
    {
     "data": {
      "application/vnd.jupyter.widget-view+json": {
       "model_id": "b4838aefce854ea4a5482d407cced6f7",
       "version_major": 2,
       "version_minor": 0
      },
      "text/plain": [
       "  0%|          | 0/1208 [00:00<?, ?it/s]"
      ]
     },
     "metadata": {},
     "output_type": "display_data"
    }
   ],
   "source": [
    "# Loop through our pages and texts and split sentences into chunks\n",
    "for item in tqdm(pages_and_texts):\n",
    "    item[\"sentence_chunks\"] = split_list(item[\"sentences\"])\n",
    "    item[\"num_chunks\"] = len(item[\"sentence_chunks\"])"
   ]
  },
  {
   "cell_type": "code",
   "execution_count": 56,
   "metadata": {},
   "outputs": [
    {
     "data": {
      "text/plain": [
       "[{'page_number': 204,\n",
       "  'page_char_count': 1831,\n",
       "  'page_word_count': 303,\n",
       "  'page_sentence_count_raw': 15,\n",
       "  'page_token_count': 457.75,\n",
       "  'text': 'whole-grain foods, fish, poultry, and nuts are emphasized while red  meats, sweets, and sugar-containing beverages are mostly avoided.  In this study, people on the low-sodium (1500 milligrams per day)  DASH diet had mean systolic blood pressures that were 7.1 mmHg  lower than people without hypertension not on the DASH diet.  The effect on blood pressure was greatest in participants with  hypertension at the beginning of the study who followed the DASH  diet. Their systolic blood pressures were, on average, 11.5 mmHg  lower than participants with hypertension on the control diet.6  Following the DASH diet not only reduces sodium intake, but  also increases potassium, calcium, and magnesium intake. All of  these electrolytes have a positive effect on blood pressure, although  the mechanisms by which they reduce blood pressure are largely  unknown.  While some other large studies have demonstrated little or no  significant relationship between sodium intake and blood pressure,  the weight of scientific evidence demonstrating low-sodium diets  as  effective  preventative  and  treatment  measures  against  hypertension led the US government to pass a focus on salt within  the Consolidated Appropriations Act of 2008. A part of this act  tasked the CDC, under guidance from the IOM, to make  recommendations for Americans to reduce dietary sodium intake.  This task is ongoing and involves “studying government approaches  (regulatory and legislative actions), food supply approaches (new  6. Sacks, FM, Svetkey LP, et al. (2001). Effects on Blood  Pressure of Reduced Dietary Sodium and the Dietary  Approaches to Stop Hypertension (DASH) Diet. New  England Journal of Medicine, 344(1), 3–10.  http://www.ncbi.nlm.nih.gov/pubmed/11136953.  Accessed September 22, 2017.  204  |  Consequences of Deficiency or Excess',\n",
       "  'sentences': ['whole-grain foods, fish, poultry, and nuts are emphasized while red  meats, sweets, and sugar-containing beverages are mostly avoided.',\n",
       "   ' In this study, people on the low-sodium (1500 milligrams per day)  DASH diet had mean systolic blood pressures that were 7.1 mmHg  lower than people without hypertension not on the DASH diet.',\n",
       "   ' The effect on blood pressure was greatest in participants with  hypertension at the beginning of the study who followed the DASH  diet.',\n",
       "   'Their systolic blood pressures were, on average, 11.5 mmHg  lower than participants with hypertension on the control diet.6  Following the DASH diet not only reduces sodium intake, but  also increases potassium, calcium, and magnesium intake.',\n",
       "   'All of  these electrolytes have a positive effect on blood pressure, although  the mechanisms by which they reduce blood pressure are largely  unknown.',\n",
       "   ' While some other large studies have demonstrated little or no  significant relationship between sodium intake and blood pressure,  the weight of scientific evidence demonstrating low-sodium diets  as  effective  preventative  and  treatment  measures  against  hypertension led the US government to pass a focus on salt within  the Consolidated Appropriations Act of 2008.',\n",
       "   'A part of this act  tasked the CDC, under guidance from the IOM, to make  recommendations for Americans to reduce dietary sodium intake.',\n",
       "   ' This task is ongoing and involves “studying government approaches  (regulatory and legislative actions), food supply approaches (new  6.',\n",
       "   'Sacks, FM, Svetkey LP, et al. (',\n",
       "   '2001).',\n",
       "   'Effects on Blood  Pressure of Reduced Dietary Sodium and the Dietary  Approaches to Stop Hypertension (DASH) Diet.',\n",
       "   'New  England Journal of Medicine, 344(1), 3–10.',\n",
       "   ' http://www.ncbi.nlm.nih.gov/pubmed/11136953.',\n",
       "   ' Accessed September 22, 2017.',\n",
       "   ' 204  |  Consequences of Deficiency or Excess'],\n",
       "  'page_sentence_count_spacy': 15,\n",
       "  'sentence_chunks': [['whole-grain foods, fish, poultry, and nuts are emphasized while red  meats, sweets, and sugar-containing beverages are mostly avoided.',\n",
       "    ' In this study, people on the low-sodium (1500 milligrams per day)  DASH diet had mean systolic blood pressures that were 7.1 mmHg  lower than people without hypertension not on the DASH diet.',\n",
       "    ' The effect on blood pressure was greatest in participants with  hypertension at the beginning of the study who followed the DASH  diet.',\n",
       "    'Their systolic blood pressures were, on average, 11.5 mmHg  lower than participants with hypertension on the control diet.6  Following the DASH diet not only reduces sodium intake, but  also increases potassium, calcium, and magnesium intake.',\n",
       "    'All of  these electrolytes have a positive effect on blood pressure, although  the mechanisms by which they reduce blood pressure are largely  unknown.',\n",
       "    ' While some other large studies have demonstrated little or no  significant relationship between sodium intake and blood pressure,  the weight of scientific evidence demonstrating low-sodium diets  as  effective  preventative  and  treatment  measures  against  hypertension led the US government to pass a focus on salt within  the Consolidated Appropriations Act of 2008.',\n",
       "    'A part of this act  tasked the CDC, under guidance from the IOM, to make  recommendations for Americans to reduce dietary sodium intake.',\n",
       "    ' This task is ongoing and involves “studying government approaches  (regulatory and legislative actions), food supply approaches (new  6.',\n",
       "    'Sacks, FM, Svetkey LP, et al. (',\n",
       "    '2001).'],\n",
       "   ['Effects on Blood  Pressure of Reduced Dietary Sodium and the Dietary  Approaches to Stop Hypertension (DASH) Diet.',\n",
       "    'New  England Journal of Medicine, 344(1), 3–10.',\n",
       "    ' http://www.ncbi.nlm.nih.gov/pubmed/11136953.',\n",
       "    ' Accessed September 22, 2017.',\n",
       "    ' 204  |  Consequences of Deficiency or Excess']],\n",
       "  'num_chunks': 2}]"
      ]
     },
     "execution_count": 56,
     "metadata": {},
     "output_type": "execute_result"
    }
   ],
   "source": [
    "random.sample(pages_and_texts, k=1)"
   ]
  },
  {
   "cell_type": "code",
   "execution_count": 57,
   "metadata": {},
   "outputs": [
    {
     "data": {
      "text/html": [
       "<div>\n",
       "<style scoped>\n",
       "    .dataframe tbody tr th:only-of-type {\n",
       "        vertical-align: middle;\n",
       "    }\n",
       "\n",
       "    .dataframe tbody tr th {\n",
       "        vertical-align: top;\n",
       "    }\n",
       "\n",
       "    .dataframe thead th {\n",
       "        text-align: right;\n",
       "    }\n",
       "</style>\n",
       "<table border=\"1\" class=\"dataframe\">\n",
       "  <thead>\n",
       "    <tr style=\"text-align: right;\">\n",
       "      <th></th>\n",
       "      <th>page_number</th>\n",
       "      <th>page_char_count</th>\n",
       "      <th>page_word_count</th>\n",
       "      <th>page_sentence_count_raw</th>\n",
       "      <th>page_token_count</th>\n",
       "      <th>page_sentence_count_spacy</th>\n",
       "      <th>num_chunks</th>\n",
       "    </tr>\n",
       "  </thead>\n",
       "  <tbody>\n",
       "    <tr>\n",
       "      <th>count</th>\n",
       "      <td>1208.00</td>\n",
       "      <td>1208.00</td>\n",
       "      <td>1208.00</td>\n",
       "      <td>1208.00</td>\n",
       "      <td>1208.00</td>\n",
       "      <td>1208.00</td>\n",
       "      <td>1208.00</td>\n",
       "    </tr>\n",
       "    <tr>\n",
       "      <th>mean</th>\n",
       "      <td>562.50</td>\n",
       "      <td>1148.00</td>\n",
       "      <td>199.50</td>\n",
       "      <td>10.52</td>\n",
       "      <td>287.00</td>\n",
       "      <td>10.32</td>\n",
       "      <td>1.53</td>\n",
       "    </tr>\n",
       "    <tr>\n",
       "      <th>std</th>\n",
       "      <td>348.86</td>\n",
       "      <td>560.38</td>\n",
       "      <td>95.83</td>\n",
       "      <td>6.55</td>\n",
       "      <td>140.10</td>\n",
       "      <td>6.30</td>\n",
       "      <td>0.64</td>\n",
       "    </tr>\n",
       "    <tr>\n",
       "      <th>min</th>\n",
       "      <td>-41.00</td>\n",
       "      <td>0.00</td>\n",
       "      <td>1.00</td>\n",
       "      <td>1.00</td>\n",
       "      <td>0.00</td>\n",
       "      <td>0.00</td>\n",
       "      <td>0.00</td>\n",
       "    </tr>\n",
       "    <tr>\n",
       "      <th>25%</th>\n",
       "      <td>260.75</td>\n",
       "      <td>762.00</td>\n",
       "      <td>134.00</td>\n",
       "      <td>5.00</td>\n",
       "      <td>190.50</td>\n",
       "      <td>5.00</td>\n",
       "      <td>1.00</td>\n",
       "    </tr>\n",
       "    <tr>\n",
       "      <th>50%</th>\n",
       "      <td>562.50</td>\n",
       "      <td>1231.50</td>\n",
       "      <td>216.00</td>\n",
       "      <td>10.00</td>\n",
       "      <td>307.88</td>\n",
       "      <td>10.00</td>\n",
       "      <td>1.00</td>\n",
       "    </tr>\n",
       "    <tr>\n",
       "      <th>75%</th>\n",
       "      <td>864.25</td>\n",
       "      <td>1603.50</td>\n",
       "      <td>272.00</td>\n",
       "      <td>15.00</td>\n",
       "      <td>400.88</td>\n",
       "      <td>15.00</td>\n",
       "      <td>2.00</td>\n",
       "    </tr>\n",
       "    <tr>\n",
       "      <th>max</th>\n",
       "      <td>1166.00</td>\n",
       "      <td>2308.00</td>\n",
       "      <td>430.00</td>\n",
       "      <td>39.00</td>\n",
       "      <td>577.00</td>\n",
       "      <td>28.00</td>\n",
       "      <td>3.00</td>\n",
       "    </tr>\n",
       "  </tbody>\n",
       "</table>\n",
       "</div>"
      ],
      "text/plain": [
       "       page_number  page_char_count  page_word_count  page_sentence_count_raw  \\\n",
       "count      1208.00          1208.00          1208.00                  1208.00   \n",
       "mean        562.50          1148.00           199.50                    10.52   \n",
       "std         348.86           560.38            95.83                     6.55   \n",
       "min         -41.00             0.00             1.00                     1.00   \n",
       "25%         260.75           762.00           134.00                     5.00   \n",
       "50%         562.50          1231.50           216.00                    10.00   \n",
       "75%         864.25          1603.50           272.00                    15.00   \n",
       "max        1166.00          2308.00           430.00                    39.00   \n",
       "\n",
       "       page_token_count  page_sentence_count_spacy  num_chunks  \n",
       "count           1208.00                    1208.00     1208.00  \n",
       "mean             287.00                      10.32        1.53  \n",
       "std              140.10                       6.30        0.64  \n",
       "min                0.00                       0.00        0.00  \n",
       "25%              190.50                       5.00        1.00  \n",
       "50%              307.88                      10.00        1.00  \n",
       "75%              400.88                      15.00        2.00  \n",
       "max              577.00                      28.00        3.00  "
      ]
     },
     "execution_count": 57,
     "metadata": {},
     "output_type": "execute_result"
    }
   ],
   "source": [
    "df = pd.DataFrame(pages_and_texts)\n",
    "# df.head()\n",
    "df.describe().round(2)"
   ]
  },
  {
   "cell_type": "markdown",
   "metadata": {},
   "source": [
    "### Splitting each chunk into its own item\n",
    "\n",
    "We'd like to embed each chunk of sentences into its own embedding (numerical representation).\n",
    "\n",
    "This will give us a good level of granularity when doing the retrieval."
   ]
  },
  {
   "cell_type": "code",
   "execution_count": 58,
   "metadata": {},
   "outputs": [
    {
     "data": {
      "application/vnd.jupyter.widget-view+json": {
       "model_id": "0e6834ad34724d03b6fc25cdaa30c9df",
       "version_major": 2,
       "version_minor": 0
      },
      "text/plain": [
       "  0%|          | 0/1208 [00:00<?, ?it/s]"
      ]
     },
     "metadata": {},
     "output_type": "display_data"
    },
    {
     "data": {
      "text/plain": [
       "1843"
      ]
     },
     "execution_count": 58,
     "metadata": {},
     "output_type": "execute_result"
    }
   ],
   "source": [
    "import re\n",
    "\n",
    "# split each chunk into its own item\n",
    "pages_and_chunks = []\n",
    "for item in tqdm(pages_and_texts):\n",
    "    for sentence_chunk in item[\"sentence_chunks\"]:\n",
    "        chunk_dict = {}\n",
    "        chunk_dict[\"page_number\"] = item[\"page_number\"]\n",
    "\n",
    "        # Join the sentences together into a paragraph like structure, aka join the list of sentences into one paragraph\n",
    "        joined_sentence_chunk = \"\".join(sentence_chunk).replace(\"  \", \" \").strip()\n",
    "        joined_sentence_chunk = re.sub(r'\\.([A-Z])', r'. \\1', joined_sentence_chunk) # \".A\" -> \". A\" for any capital letter.\n",
    "\n",
    "        chunk_dict[\"sentence_chunk\"] = joined_sentence_chunk\n",
    "\n",
    "        # Get some stats on our chunks\n",
    "        chunk_dict[\"chunk_char_count\"] = len(joined_sentence_chunk)\n",
    "        chunk_dict[\"chunk_word_count\"] = len([word for word in joined_sentence_chunk.split(\" \")])\n",
    "        chunk_dict[\"chunk_token_count\"] = len(joined_sentence_chunk) / 4 # 1 token ~4chars\n",
    "\n",
    "        pages_and_chunks.append(chunk_dict)\n",
    "len(pages_and_chunks)\n"
   ]
  },
  {
   "cell_type": "code",
   "execution_count": 59,
   "metadata": {},
   "outputs": [
    {
     "data": {
      "text/plain": [
       "[{'page_number': 503,\n",
       "  'sentence_chunk': 'National Heart, Lung, and Blood Institute.1998, 51S–210S. http://www.ncbi.nlm.nih.gov/ books/NBK2003/. Accessed September 22, 2017. Dietary, Behavioral, and Physical Activity Recommendations for Weight Management | 503',\n",
       "  'chunk_char_count': 218,\n",
       "  'chunk_word_count': 24,\n",
       "  'chunk_token_count': 54.5}]"
      ]
     },
     "execution_count": 59,
     "metadata": {},
     "output_type": "execute_result"
    }
   ],
   "source": [
    "random.sample(pages_and_chunks, k=1)"
   ]
  },
  {
   "cell_type": "code",
   "execution_count": 60,
   "metadata": {},
   "outputs": [
    {
     "data": {
      "text/html": [
       "<div>\n",
       "<style scoped>\n",
       "    .dataframe tbody tr th:only-of-type {\n",
       "        vertical-align: middle;\n",
       "    }\n",
       "\n",
       "    .dataframe tbody tr th {\n",
       "        vertical-align: top;\n",
       "    }\n",
       "\n",
       "    .dataframe thead th {\n",
       "        text-align: right;\n",
       "    }\n",
       "</style>\n",
       "<table border=\"1\" class=\"dataframe\">\n",
       "  <thead>\n",
       "    <tr style=\"text-align: right;\">\n",
       "      <th></th>\n",
       "      <th>page_number</th>\n",
       "      <th>chunk_char_count</th>\n",
       "      <th>chunk_word_count</th>\n",
       "      <th>chunk_token_count</th>\n",
       "    </tr>\n",
       "  </thead>\n",
       "  <tbody>\n",
       "    <tr>\n",
       "      <th>count</th>\n",
       "      <td>1843.00</td>\n",
       "      <td>1843.00</td>\n",
       "      <td>1843.00</td>\n",
       "      <td>1843.00</td>\n",
       "    </tr>\n",
       "    <tr>\n",
       "      <th>mean</th>\n",
       "      <td>583.38</td>\n",
       "      <td>734.10</td>\n",
       "      <td>112.74</td>\n",
       "      <td>183.52</td>\n",
       "    </tr>\n",
       "    <tr>\n",
       "      <th>std</th>\n",
       "      <td>347.79</td>\n",
       "      <td>447.51</td>\n",
       "      <td>71.24</td>\n",
       "      <td>111.88</td>\n",
       "    </tr>\n",
       "    <tr>\n",
       "      <th>min</th>\n",
       "      <td>-41.00</td>\n",
       "      <td>12.00</td>\n",
       "      <td>3.00</td>\n",
       "      <td>3.00</td>\n",
       "    </tr>\n",
       "    <tr>\n",
       "      <th>25%</th>\n",
       "      <td>280.50</td>\n",
       "      <td>315.00</td>\n",
       "      <td>45.00</td>\n",
       "      <td>78.75</td>\n",
       "    </tr>\n",
       "    <tr>\n",
       "      <th>50%</th>\n",
       "      <td>586.00</td>\n",
       "      <td>745.00</td>\n",
       "      <td>115.00</td>\n",
       "      <td>186.25</td>\n",
       "    </tr>\n",
       "    <tr>\n",
       "      <th>75%</th>\n",
       "      <td>890.00</td>\n",
       "      <td>1118.00</td>\n",
       "      <td>173.00</td>\n",
       "      <td>279.50</td>\n",
       "    </tr>\n",
       "    <tr>\n",
       "      <th>max</th>\n",
       "      <td>1166.00</td>\n",
       "      <td>1830.00</td>\n",
       "      <td>297.00</td>\n",
       "      <td>457.50</td>\n",
       "    </tr>\n",
       "  </tbody>\n",
       "</table>\n",
       "</div>"
      ],
      "text/plain": [
       "       page_number  chunk_char_count  chunk_word_count  chunk_token_count\n",
       "count      1843.00           1843.00           1843.00            1843.00\n",
       "mean        583.38            734.10            112.74             183.52\n",
       "std         347.79            447.51             71.24             111.88\n",
       "min         -41.00             12.00              3.00               3.00\n",
       "25%         280.50            315.00             45.00              78.75\n",
       "50%         586.00            745.00            115.00             186.25\n",
       "75%         890.00           1118.00            173.00             279.50\n",
       "max        1166.00           1830.00            297.00             457.50"
      ]
     },
     "execution_count": 60,
     "metadata": {},
     "output_type": "execute_result"
    }
   ],
   "source": [
    "# pages_and_chunks\n",
    "df = pd.DataFrame(pages_and_chunks)\n",
    "# df.head()\n",
    "df.describe().round(2)"
   ]
  },
  {
   "cell_type": "code",
   "execution_count": 61,
   "metadata": {},
   "outputs": [
    {
     "data": {
      "text/plain": [
       "2.5501899077590884"
      ]
     },
     "execution_count": 61,
     "metadata": {},
     "output_type": "execute_result"
    }
   ],
   "source": [
    "# percentage of chunks that will get cut by some amount of tokens when embedding\n",
    "max_token_size_embedding_model = 384\n",
    "len(df[df[\"chunk_token_count\"]>384])/len(df) * 100"
   ]
  },
  {
   "cell_type": "markdown",
   "metadata": {},
   "source": [
    "Maybe some of our chunks are going to have some small token counts that clearly won't add a lot of value to the model.\n",
    "\n",
    "These would be the ones that were cut off when chunking in 10 sentences at the end, e.g., a text cluster that had 11 sentences\n",
    "will produce a chunk that has only 1 sentence. \n",
    "\n",
    "We don't want to waste processing power on such a small chunk, so let's filter those out"
   ]
  },
  {
   "cell_type": "code",
   "execution_count": 62,
   "metadata": {},
   "outputs": [
    {
     "name": "stdout",
     "output_type": "stream",
     "text": [
      "Chunk token count: 23.0 | Text: view it online here: http://pressbooks.oer.hawaii.edu/ humannutrition2/?p=301 The Atom | 471\n",
      "Chunk token count: 19.25 | Text: The function of the anticoagulant drug warfarin is 544 | Fat-Soluble Vitamins\n",
      "Chunk token count: 10.5 | Text: 420 | Proteins, Diet, and Personal Choices\n",
      "Chunk token count: 16.5 | Text: Table 4.6 Sweeteners Carbohydrates and Personal Diet Choices | 281\n",
      "Chunk token count: 14.75 | Text: Folate is also found in legumes, liver, and Pregnancy | 787\n"
     ]
    }
   ],
   "source": [
    "# Sanity check to make sure the token limit we chose isn't filtering out useful data\n",
    "min_token_length = 30\n",
    "for row in df[df[\"chunk_token_count\"] <= min_token_length].sample(5).iterrows():\n",
    "    print(f\"Chunk token count: {row[1]['chunk_token_count']} | Text: {row[1]['sentence_chunk']}\")"
   ]
  },
  {
   "cell_type": "code",
   "execution_count": 63,
   "metadata": {},
   "outputs": [
    {
     "data": {
      "text/plain": [
       "[{'page_number': 1123,\n",
       "  'sentence_chunk': 'and about food that they eat. Anorexia results in extreme nutrient inadequacy and eventually to organ malfunction. Anorexia is relatively rare—the National Institute of Mental Health (NIMH) reports that 0.9 percent of females and 0.3 percent of males will have anorexia at some point in their lifetime, but it is an extreme example of how an unbalanced diet can affect health.2 Anorexia frequently manifests during adolescence and it has the highest rate of mortality of all mental illnesses. People with anorexia consume, on average, fewer than 1,000 kilocalories per day and exercise excessively. They are in a tremendous caloric imbalance. Moreover, some may participate in binge eating, self-induced vomiting, and purging with laxatives or enemas. The very first time a person starves him- or herself may trigger the onset of anorexia. The exact causes of anorexia are not completely known, but many things contribute to its development including economic status, as it is most prevalent in high-income families. It is a genetic disease and is often passed from one generation to the next. Pregnancy complications and abnormalities in the brain, endocrine system, and immune system may all contribute to the development of this illness.',\n",
       "  'chunk_char_count': 1240,\n",
       "  'chunk_word_count': 194,\n",
       "  'chunk_token_count': 310.0},\n",
       " {'page_number': 810,\n",
       "  'sentence_chunk': 'Employment can also factor into a woman’s decision to breastfeed or her ability to maintain the practice. Employed mothers have been less likely to initiate breastfeeding and tend to breastfeed for a shorter period of time than new mothers who are not employed or who have lengthy maternity leaves. In 2010 in the United States, the passage of the Affordable Care Act (ACA) required most employers to provide accommodations within the workplace for new mothers to pump breast milk. This law requires a private and clean space within the workplace, other than a restroom, along with adequate break time for a woman to express milk.5It also requires health insurance to cover certain breastfeeding services and supplies such as a breast pump. Additionally, the Hawai‘i State Legislature has passed several bills to support breastfeeding. These bills provide a number of rights to breastfeeding women in Hawai‘i. These include: the right to breastfeed in public, the right to pump breastmilk at work (extending beyond the ACA worksite protections), protection from an employer from firing or penalizing a lactating employee because the employee breastfeeds or expresses milk at the workplace,6 and the right for breastfeeding mothers to decline jury duty until the 5. US Department of Health and Human Services. (2011, January 20). Executive summary: The Surgeon General’s call to action to support breastfeeding.',\n",
       "  'chunk_char_count': 1410,\n",
       "  'chunk_word_count': 221,\n",
       "  'chunk_token_count': 352.5},\n",
       " {'page_number': 131,\n",
       "  'sentence_chunk': 'Learning Activities Technology Note: The second edition of the Human Nutrition Open Educational Resource (OER) textbook features interactive learning activities. These activities are available in the web-based textbook and not available in the downloadable versions (EPUB, Digital PDF, Print_PDF, or Open Document). Learning activities may be used across various mobile devices, however, for the best user experience it is strongly recommended that users complete these activities using a desktop or laptop computer and in Google Chrome.  An interactive or media element has been excluded from this version of the text. You can view it online here: http://pressbooks.oer.hawaii.edu/ humannutrition2/?p=118 An interactive or media element has been excluded from this version of the text. You can view it online here: The Immune System | 131',\n",
       "  'chunk_char_count': 839,\n",
       "  'chunk_word_count': 124,\n",
       "  'chunk_token_count': 209.75}]"
      ]
     },
     "execution_count": 63,
     "metadata": {},
     "output_type": "execute_result"
    }
   ],
   "source": [
    "# Actually filter out the low token chunks\n",
    "pages_and_chunks_over_min_token_length = df[df[\"chunk_token_count\"] > min_token_length].to_dict(orient=\"records\")\n",
    "random.sample(pages_and_chunks_over_min_token_length, k=3)"
   ]
  },
  {
   "cell_type": "markdown",
   "metadata": {},
   "source": [
    "## 1.3 Embed text chunks using our embedding model\n",
    "Embeddings are a broad but powerful context.\n",
    "\n",
    "We humans understand text while computers understand numbers. \n",
    "\n",
    "Therefore, we want to turn in our text chunks into representative numbers.\n",
    "\n",
    "Embeddings: A useful numerical representation of words.\n",
    "\n",
    "The best part of embeddings is that they are a *learned* representation.\n",
    "\n",
    "For a great resource, see here: https://vickiboykis.com/what_are_embeddings/"
   ]
  },
  {
   "cell_type": "code",
   "execution_count": 64,
   "metadata": {},
   "outputs": [
    {
     "name": "stderr",
     "output_type": "stream",
     "text": [
      "c:\\Users\\georg\\anaconda3\\envs\\simple-local-rag\\Lib\\site-packages\\huggingface_hub\\file_download.py:1142: FutureWarning: `resume_download` is deprecated and will be removed in version 1.0.0. Downloads always resume when possible. If you want to force a new download, use `force_download=True`.\n",
      "  warnings.warn(\n"
     ]
    },
    {
     "name": "stdout",
     "output_type": "stream",
     "text": [
      "Sentence: The sentence transformer library provides an easy way to create embeddings.\n",
      "Embedding: [-3.44285481e-02  2.95328666e-02 -2.33643260e-02  5.57257198e-02\n",
      " -2.19098367e-02 -6.47059968e-03  1.02849798e-02 -6.57803714e-02\n",
      "  2.29718406e-02 -2.61120833e-02  3.80420983e-02  5.61402552e-02\n",
      " -3.68746333e-02  1.52787464e-02  4.37020995e-02 -5.19723818e-02\n",
      "  4.89479043e-02  3.58104892e-03 -1.29750622e-02  3.54383164e-03\n",
      "  4.23261896e-02  3.52606475e-02  2.49402039e-02  2.99177226e-02\n",
      " -1.99381579e-02 -2.39752550e-02 -3.33370687e-03 -4.30450104e-02\n",
      "  5.72014228e-02 -1.32517749e-02 -3.54477689e-02 -1.13935769e-02\n",
      "  5.55561371e-02  3.61096137e-03  8.88527381e-07  1.14027262e-02\n",
      " -3.82229760e-02 -2.43542343e-03  1.51313916e-02 -1.32580055e-04\n",
      "  5.00659533e-02 -5.50876744e-02  1.73444375e-02  5.00958823e-02\n",
      " -3.75959501e-02 -1.04463696e-02  5.08322828e-02  1.24860900e-02\n",
      "  8.67376775e-02  4.64142784e-02 -2.10690200e-02 -3.90251763e-02\n",
      "  1.99694163e-03 -1.42345838e-02 -1.86794903e-02  2.82669645e-02\n",
      " -4.17522267e-02 -3.59932636e-03 -1.30827231e-02  3.91671248e-02\n",
      " -2.92914081e-02  4.63230349e-02  6.12685736e-03 -3.85694467e-02\n",
      "  6.66883439e-02 -1.42418910e-02 -6.49578050e-02  4.04560473e-03\n",
      " -3.01185646e-03  6.58982396e-02  7.93335959e-03 -2.52184421e-02\n",
      " -3.52043509e-02 -2.06171796e-02  3.65961641e-02  2.41232999e-02\n",
      " -4.23979275e-02 -2.37270910e-02  7.19452277e-02  3.18896137e-02\n",
      "  8.56764242e-03  5.01809120e-02  3.06092128e-02 -3.81284691e-02\n",
      " -3.40645537e-02 -4.32110317e-02  5.26518561e-02 -4.27095443e-02\n",
      " -3.30608003e-02 -2.80989949e-02 -8.63213744e-03  3.27507295e-02\n",
      "  3.98531668e-02 -2.80643981e-02  1.62000842e-02  1.64635479e-02\n",
      " -7.26301223e-02 -2.35976707e-02 -4.99452278e-03 -2.43376140e-02\n",
      "  6.63574561e-02  1.01700779e-02 -7.33344303e-03  1.01677999e-02\n",
      " -8.24311972e-02  5.06569147e-02  1.54296588e-03 -3.88792669e-03\n",
      " -2.68747061e-02 -2.70627011e-02 -4.45155352e-02 -9.93523467e-03\n",
      " -6.68739080e-02  1.33291641e-02 -1.38136623e-02 -7.60721341e-02\n",
      " -4.59486581e-02  5.82300723e-02 -3.41542065e-02  2.06777472e-02\n",
      "  5.75287873e-03  1.62674785e-02  1.88210271e-02  2.27290113e-02\n",
      " -7.16709020e-03  1.31421657e-02 -2.34097820e-02 -3.14957798e-02\n",
      " -1.90285090e-02  2.24106442e-02 -2.75778435e-02  5.19171730e-02\n",
      "  6.12934977e-02 -3.74246668e-03 -4.91759032e-02  4.43306798e-03\n",
      "  2.02150643e-02 -3.07916049e-02  3.44956107e-02  3.42499129e-02\n",
      " -7.24013196e-04  2.76552364e-02  8.57990992e-04 -4.65563945e-02\n",
      "  6.29548728e-02 -4.82685259e-03  1.12508927e-02 -4.57350537e-02\n",
      "  2.62186751e-02  2.94705350e-02 -4.70293947e-02  1.26509145e-01\n",
      "  1.09375073e-02 -3.88612375e-02 -6.29503429e-02 -2.97410917e-02\n",
      "  7.95471892e-02  5.15913293e-02  5.60819656e-02 -1.68493837e-02\n",
      "  4.59669903e-02  5.02602852e-05 -1.38017870e-02  1.84812564e-02\n",
      " -1.42345000e-02 -1.03216432e-02 -1.79739837e-02 -1.39032658e-02\n",
      "  3.46012763e-03  8.58672932e-02 -1.29174832e-02  7.49304146e-02\n",
      "  6.11052662e-03  1.45746497e-02  2.25934237e-02  6.90806359e-02\n",
      "  5.59253134e-02  5.44428593e-03  8.17073435e-02  3.58046144e-02\n",
      " -4.49424870e-02  2.65793074e-02 -4.30802964e-02  5.07439114e-02\n",
      "  1.58738345e-02  3.93476784e-02 -1.61547288e-02  7.93662146e-02\n",
      "  4.35212022e-03  1.11144232e-02 -2.07477454e-02 -3.64701636e-02\n",
      "  1.79305784e-02 -4.53404225e-02 -1.21980561e-02  4.42192368e-02\n",
      " -3.85863185e-02  4.27426957e-02 -2.27959550e-04 -6.03184849e-02\n",
      "  1.44633814e-03  3.66891660e-02 -2.83609173e-04  7.67654702e-02\n",
      "  4.95438017e-02  1.62606370e-02  2.26804111e-02 -3.24033909e-02\n",
      " -3.86326984e-02  7.82950446e-02  2.78975144e-02 -2.20211167e-02\n",
      " -2.95078922e-02 -7.43437633e-02  4.18462902e-02 -2.27428158e-03\n",
      "  9.15875472e-03 -2.64815558e-02 -1.25546958e-02  2.28405036e-02\n",
      "  6.82077557e-02 -3.07936631e-02  3.61645892e-02  3.87404896e-02\n",
      " -2.34642588e-02 -1.86182112e-02 -1.29762891e-04  2.78771836e-02\n",
      "  1.14771919e-02  3.79706919e-02 -1.60052702e-02  7.01069012e-02\n",
      "  6.32945448e-02 -3.99301983e-02 -4.42786254e-02  5.96374497e-02\n",
      " -2.23135427e-02 -7.57414848e-02  1.49409147e-02 -9.69461352e-02\n",
      "  2.42265426e-02  3.49744386e-03  1.57957978e-03 -1.62705407e-02\n",
      " -1.31779285e-02 -5.74744958e-03  8.57103467e-02 -4.42351736e-02\n",
      " -5.16825262e-03  3.88116501e-02  3.97148877e-02 -2.85580996e-02\n",
      " -1.36335241e-03  5.21435440e-02  1.33008687e-02 -1.98846068e-02\n",
      " -3.53314616e-02 -3.27012711e-03  3.66953835e-02 -2.43318034e-03\n",
      " -2.35368982e-02  2.37295777e-02 -4.22037859e-03 -2.85154320e-02\n",
      " -9.95516498e-03  2.10746378e-02 -2.99481973e-02 -4.54377756e-02\n",
      "  2.57442263e-03  2.40145717e-02 -9.36567131e-03  3.95622337e-03\n",
      "  2.72044651e-02  1.66734960e-02  3.04440130e-02 -5.11821769e-02\n",
      "  1.59915034e-02 -2.37709610e-04  2.27038786e-02  4.44444865e-02\n",
      " -6.36408404e-02 -3.83594111e-02 -4.00812142e-02  2.31165774e-02\n",
      " -2.28345990e-02  5.22317998e-02 -5.64016066e-02 -5.54196350e-03\n",
      " -3.16336490e-02 -8.85501318e-03  1.54491179e-02  1.30278803e-02\n",
      "  3.72902676e-02 -3.58290896e-02 -1.00853387e-02  1.23443212e-02\n",
      "  7.60784298e-02  3.69418375e-02 -9.44146980e-03  5.70525341e-02\n",
      "  5.23618832e-02 -1.17083220e-02 -1.56439189e-02  6.22280221e-03\n",
      " -1.06242886e-02  5.60463704e-02 -5.64219290e-03  5.41883428e-03\n",
      " -1.21085439e-02  1.23996772e-02  2.18715519e-03 -9.17419232e-03\n",
      " -1.89264230e-02  3.57193761e-02 -5.53161139e-03 -7.21396971e-03\n",
      " -6.24070643e-03 -4.90304222e-03 -3.01039517e-02 -2.73905490e-02\n",
      "  3.76886316e-02 -3.26150155e-04  3.61381844e-02 -5.17626181e-02\n",
      " -3.06851845e-02 -3.95018198e-02 -3.99090573e-02 -3.96709144e-02\n",
      "  6.23496696e-02 -7.13259773e-03  5.07588557e-04 -1.15799615e-02\n",
      " -7.76440650e-03 -3.30223180e-02  2.27072686e-02  4.39098813e-02\n",
      "  1.80925764e-02  1.33063924e-02  1.04865022e-02 -2.82455441e-02\n",
      " -1.57835688e-02 -2.82921195e-02 -2.41274163e-02 -4.84205782e-02\n",
      " -8.66244920e-03  2.37213317e-02  1.99321583e-02 -1.35324635e-02\n",
      " -2.93466691e-02  1.42493602e-02 -1.25416331e-02 -1.46438237e-02\n",
      " -1.33557795e-02  1.02691539e-02 -5.04000671e-02  6.88536614e-02\n",
      "  4.72585186e-02  1.26618822e-03 -1.89663526e-02 -2.18127295e-03\n",
      "  6.67325333e-02 -2.33002789e-02 -4.59406264e-02  1.23992865e-03\n",
      " -5.13819456e-02 -3.30482796e-02 -1.82184705e-03 -4.85388488e-02\n",
      "  2.42682826e-02  4.89649037e-03 -3.73754441e-03  9.66761354e-03\n",
      " -1.69690549e-02  8.71259347e-02  5.44294752e-02 -3.85264829e-02\n",
      "  3.44931409e-02 -3.72254774e-02  3.47704291e-02  3.20376223e-03\n",
      "  3.44035886e-02 -1.16729207e-01 -4.00709137e-02 -7.51277339e-03\n",
      " -3.64854299e-02  4.74883988e-02  6.11874182e-03  4.82696341e-03\n",
      " -9.75746512e-02  1.94992386e-02  2.06659399e-02  5.37245013e-02\n",
      " -3.83448079e-02 -1.50264017e-02 -4.93643321e-02  1.69349276e-02\n",
      " -1.32873915e-02 -3.25810611e-02 -1.35621158e-02  7.58151800e-05\n",
      " -5.32805175e-02 -6.10712618e-02 -1.14890868e-02 -3.04297898e-02\n",
      " -6.29046410e-02  3.11574042e-02 -4.25547827e-03  5.35519719e-02\n",
      "  5.80684689e-04 -3.18181328e-02 -7.51202404e-02 -2.28261445e-02\n",
      " -6.52605966e-02  2.64531989e-02  3.56257223e-02 -2.42591780e-02\n",
      " -2.48211715e-02  7.10827857e-03  3.44615169e-02 -3.58824171e-02\n",
      " -2.35385187e-02  2.89773401e-02  9.04023349e-02 -3.30270571e-03\n",
      "  9.67266969e-03 -4.82160859e-02  1.33224893e-02  2.13714838e-02\n",
      "  4.24260683e-02  2.80175488e-02 -1.16784321e-02 -8.52993922e-04\n",
      "  3.61301703e-03  4.90865059e-05 -4.21288684e-02 -3.83800119e-02\n",
      "  2.59826798e-02 -1.66465137e-02  4.53917533e-02 -8.60693082e-02\n",
      " -3.78084406e-02  5.70829026e-02  2.29125284e-02  3.66921239e-02\n",
      "  1.06493672e-02  1.90632399e-02 -1.82972476e-03 -5.97029179e-02\n",
      " -1.24359615e-02  1.07638305e-02  1.96662229e-02  2.29672883e-02\n",
      " -2.30668280e-02  5.48702292e-02  3.38971429e-02  1.75856799e-02\n",
      " -2.28890609e-02 -3.06942984e-02 -4.81055975e-02  7.13967439e-03\n",
      "  2.17536315e-02  8.45423620e-03  1.33395828e-02 -4.54222821e-02\n",
      "  3.38962600e-02  4.58741151e-02  3.46708409e-02 -7.65073523e-02\n",
      " -1.93071216e-02  9.84600559e-03 -1.36194117e-02  1.15063619e-02\n",
      "  3.78279053e-02 -6.25110138e-03 -3.61673674e-03 -6.28121793e-02\n",
      "  3.25885043e-02  2.00627018e-02 -6.75870627e-02  1.74652040e-02\n",
      " -5.44601865e-02 -2.69646104e-02 -3.39342915e-02  9.15182475e-03\n",
      " -6.85482705e-03  1.50181418e-02 -1.14632323e-01 -3.48746590e-02\n",
      " -5.34086749e-02  2.59111412e-02  4.46100719e-02  1.63093302e-02\n",
      "  8.70546605e-03 -2.26441417e-02 -2.66446322e-02  6.84177037e-03\n",
      "  1.11482069e-02  5.68693392e-02  4.96933237e-02 -1.27541972e-02\n",
      " -1.26162786e-02  2.45030466e-02 -3.40677835e-02 -1.06380284e-02\n",
      " -7.31094107e-02 -5.42686647e-03 -3.50816213e-02 -1.15439277e-02\n",
      " -2.00235285e-02 -1.32712377e-02 -4.83776033e-02  4.29345816e-02\n",
      " -2.42103171e-02  5.23327775e-02 -2.63344366e-02  3.02773062e-03\n",
      "  7.88600966e-02 -9.47290845e-03  5.09274006e-02 -6.98978873e-03\n",
      " -2.83142775e-02  6.09138347e-02  6.34606853e-02 -6.49070889e-02\n",
      " -1.86334159e-02  4.04767832e-03  1.80158205e-02 -3.19798179e-02\n",
      " -4.36900817e-02  2.82263011e-02 -2.02955343e-02 -1.79635838e-03\n",
      "  2.56271865e-02  6.55639451e-03 -5.57637922e-02 -1.39312185e-02\n",
      "  3.88334505e-02  3.77677642e-02 -3.07318922e-02 -1.68724116e-02\n",
      " -3.49365324e-02 -6.65669441e-02 -1.88083779e-02  3.86462174e-02\n",
      " -1.54486010e-02  9.48592927e-03 -1.73503943e-02  8.04664567e-03\n",
      "  1.75370034e-02 -2.30520144e-02 -1.32560935e-02  3.37194428e-02\n",
      " -1.54417548e-02 -6.87238872e-02 -3.28853354e-02 -4.49871202e-33\n",
      " -4.44906242e-02  9.54698119e-03 -2.57224832e-02 -3.21282484e-02\n",
      " -4.30243276e-03 -4.26219869e-03  5.16677089e-03  2.25372612e-02\n",
      "  2.49412823e-02  3.24431919e-02  9.34809167e-03 -2.73894370e-02\n",
      "  1.38996951e-02  1.00506702e-02 -1.26830884e-03  2.90706567e-02\n",
      "  2.60552857e-02 -1.68450531e-02  1.71560757e-02  1.25805829e-02\n",
      "  1.24600530e-02  3.60123590e-02  4.09959443e-02 -3.05389296e-02\n",
      " -2.42153015e-02  1.16511174e-02 -8.61143600e-03 -3.64995329e-03\n",
      "  3.25473882e-02  4.22551669e-02 -2.76540406e-02  2.32557021e-02\n",
      " -2.10830849e-02  4.25279662e-02 -1.60155743e-02  6.31459057e-02\n",
      " -4.40687723e-02 -5.13208378e-03  4.02369574e-02 -2.52309404e-02\n",
      " -2.02982854e-02 -4.01855335e-02 -3.42488438e-02 -4.86407131e-02\n",
      "  4.07061987e-02  1.19459862e-02  3.70717682e-02 -1.10963860e-03\n",
      " -1.08806333e-02  1.28649948e-02 -8.01076069e-02 -8.55997496e-04\n",
      "  8.65084492e-03  2.05037445e-02  2.53296066e-02 -8.17069039e-03\n",
      "  6.28607348e-04 -3.34681408e-03 -2.97056721e-03 -8.26581661e-03\n",
      " -3.67429219e-02  3.16992998e-02  2.49394756e-02 -4.95020002e-02\n",
      " -4.88927662e-02  6.75727278e-02 -3.79922688e-02 -3.87110896e-02\n",
      " -7.73421349e-03  4.97960448e-02  2.09200028e-02  3.35242040e-02\n",
      "  5.47626615e-02  6.31319061e-02 -1.58095621e-02  2.19913181e-02\n",
      " -1.67725720e-02 -1.54925007e-02  2.51924470e-02 -3.56683321e-03\n",
      "  3.17917578e-02  3.06092501e-02  2.60382257e-02 -1.52969761e-02\n",
      " -1.50789954e-02  1.22896135e-02  5.31409681e-03 -6.28142431e-02\n",
      "  3.58325094e-02  8.64119362e-03 -3.25662307e-02  9.51266661e-03\n",
      "  3.60868089e-02 -1.93803292e-02 -2.90087517e-03  2.36175321e-02\n",
      " -6.19433681e-03  2.53082179e-02 -9.00887977e-03  3.83066311e-02\n",
      "  7.40723265e-03 -3.88697721e-02 -7.62271113e-04 -1.19213043e-02\n",
      "  2.58010663e-02  1.50566492e-02  2.97985878e-02 -1.24886753e-02\n",
      " -7.63765946e-02  7.84255215e-04 -4.59647970e-03 -5.96700422e-02\n",
      " -4.99216951e-02  3.65768955e-03 -1.55270612e-02  2.41611972e-02\n",
      " -5.76896640e-03 -1.69775425e-03  3.52599882e-02 -1.41618978e-02\n",
      " -2.79697720e-02 -2.50185672e-02  4.09228429e-02  3.31036113e-02\n",
      " -2.88112853e-02 -1.83183327e-02 -4.28755693e-02  4.02017720e-02\n",
      "  4.59586382e-02 -6.20827898e-02  1.84501391e-02  1.13509840e-03\n",
      "  1.72663320e-07  2.86144689e-02  5.50687052e-02  4.52570841e-02\n",
      "  5.29319840e-03 -1.29607124e-02 -2.52388064e-02  1.48602789e-02\n",
      "  6.78400919e-02 -3.56871006e-03  1.65683050e-02  1.49407871e-02\n",
      " -1.64327342e-02  1.32763665e-02  2.84506381e-02 -1.37935296e-01\n",
      "  2.26400085e-02 -3.04838829e-02 -2.96503175e-02 -4.93083820e-02\n",
      " -1.45468665e-02  1.27221689e-01  1.06428348e-01  4.55490164e-02\n",
      "  4.17893939e-02 -1.05863474e-02 -2.93935072e-02  3.29430215e-02\n",
      "  1.14067355e-02 -3.86651345e-02 -2.50284038e-02 -2.86876578e-02\n",
      " -2.30518784e-02 -1.87886022e-02 -7.56765855e-03 -3.12078130e-02\n",
      "  2.19139960e-02  2.03541145e-02  1.14079751e-03 -5.82861528e-03\n",
      "  7.71839591e-03 -4.40828912e-02 -1.21652931e-02 -2.23600268e-02\n",
      " -2.46035289e-02  5.00243641e-02 -6.77435920e-02 -1.67534836e-02\n",
      " -4.29059491e-02 -3.12047377e-02  2.83358432e-02  6.48830971e-03\n",
      " -2.46222038e-02 -4.35099825e-02  1.45790773e-02  4.03499454e-02\n",
      "  4.33942955e-03 -1.14600835e-02 -7.68447369e-02 -4.44949716e-02\n",
      "  3.59256682e-03 -1.57844480e-02 -1.04556838e-02 -2.14963835e-02\n",
      " -3.05430330e-02  5.50826006e-02  6.99722674e-04  1.58236492e-02\n",
      "  1.89766275e-34  4.58320305e-02  1.93463769e-02  4.65046354e-02\n",
      "  6.44745231e-02  4.34259772e-02 -3.92567404e-02  1.20930585e-04\n",
      "  1.26640247e-02  1.90869179e-02 -6.96960241e-02 -3.12182885e-02]\n",
      "Sentence: Sentences can be embedded one by one or in a list.\n",
      "Embedding: [ 3.94506529e-02 -4.60195243e-02 -3.29465047e-02  2.72825118e-02\n",
      " -3.61808874e-02  3.57466079e-02  4.55458984e-02 -1.09203234e-02\n",
      "  3.95561829e-02 -2.60225255e-02  6.42183498e-02  2.12015938e-02\n",
      "  3.99726108e-02 -6.04056343e-02  2.74325870e-02 -7.52282515e-02\n",
      "  4.09870446e-02  8.16747453e-03  2.56218296e-02  1.11968471e-02\n",
      " -8.31804145e-03  1.95503533e-02 -1.46528482e-02  1.46338362e-02\n",
      "  2.22780313e-02  5.03181061e-03 -2.79729851e-02 -5.24365297e-03\n",
      "  2.35681664e-02 -7.86470324e-02 -2.56239735e-02 -5.34633128e-03\n",
      "  1.74728490e-03 -9.19248611e-02  1.69435600e-06  2.65377145e-02\n",
      " -2.27520056e-02 -3.18034329e-02 -5.45587838e-02  2.40477435e-02\n",
      " -3.12012602e-02 -3.47734545e-03  3.40134874e-02  1.93418786e-02\n",
      " -1.51144275e-02 -1.26156642e-03  6.19680211e-02  6.36472329e-02\n",
      "  2.88905930e-02  7.44322538e-02 -1.31940022e-02 -1.69802643e-02\n",
      " -2.43855901e-02 -3.20619233e-02  5.30785173e-02  7.06743496e-03\n",
      "  4.35358379e-03 -2.78003197e-02  3.58129712e-03  6.75942227e-02\n",
      "  1.14423698e-02  4.03575413e-02  5.52667305e-03 -2.91214343e-02\n",
      "  2.67779045e-02 -1.59772113e-02 -6.10939823e-02 -4.90748435e-02\n",
      " -3.12806927e-02  6.63172780e-03  6.04848340e-02 -8.52196757e-03\n",
      "  1.80660584e-03  1.19780737e-03  4.75631468e-02 -3.71573977e-02\n",
      " -5.38033918e-02  4.93517183e-02  5.34400344e-03  9.74629074e-03\n",
      " -6.11064117e-03  3.15140225e-02 -1.20278271e-02 -2.98325494e-02\n",
      " -1.70657355e-02 -3.83765576e-03  2.07908470e-02 -3.89088020e-02\n",
      " -3.99045385e-02 -3.09957638e-02 -3.52467075e-02 -4.35825959e-02\n",
      " -1.33233964e-02 -3.39081250e-02 -3.73935560e-03 -5.88061754e-03\n",
      " -5.20700254e-02 -3.49298976e-02  4.16680537e-02 -4.62911315e-02\n",
      "  4.75238897e-02 -4.08677151e-03 -1.76504944e-02 -7.97251798e-03\n",
      " -1.10378684e-02  6.79825805e-03  1.32744722e-02 -5.35473339e-02\n",
      " -9.04048085e-02  5.23857735e-02 -1.12107471e-02 -6.70005977e-02\n",
      " -4.79617082e-02  8.53535309e-02 -2.55563837e-02 -3.02220210e-02\n",
      " -7.13325515e-02  2.57714987e-02  1.00014796e-02  3.85845192e-02\n",
      " -9.34014916e-02 -8.47597606e-03  2.22693589e-02  7.02882707e-02\n",
      "  1.52111175e-02 -2.20443271e-02 -3.22776809e-02  2.85470840e-02\n",
      "  5.91877885e-02 -2.11898815e-02 -6.07738970e-03  3.99073772e-02\n",
      "  6.24966696e-02  2.07942468e-03 -3.55497934e-02  1.55533291e-03\n",
      "  5.86454757e-02 -7.02510308e-03  1.67637374e-02 -1.22546256e-02\n",
      " -3.16378772e-02 -1.88513566e-02 -4.07726038e-03 -1.49545632e-02\n",
      "  1.36235030e-02  1.08601227e-02  7.54657248e-03 -4.71822321e-02\n",
      "  4.82561216e-02  4.59333211e-02 -3.33714932e-02  4.32215333e-02\n",
      "  1.80385988e-02 -3.25416699e-02 -3.28202434e-02 -8.23762268e-03\n",
      "  1.35699809e-01  1.34014022e-02  8.18538107e-03  3.36027853e-02\n",
      "  3.36918458e-02 -2.11383984e-03  1.11444341e-03 -3.28610279e-02\n",
      " -5.54257445e-03 -2.86582708e-02 -1.44179212e-02  7.77844200e-03\n",
      " -1.63697987e-03  5.23461848e-02 -6.21748380e-02  7.61910453e-02\n",
      " -1.31988770e-03  1.02659419e-01  3.20158564e-02  9.65953767e-02\n",
      " -2.53451895e-02 -1.59760229e-02  2.35257596e-02  3.39030288e-02\n",
      "  6.42942339e-02  4.50348854e-02 -4.25531529e-02  1.18687078e-02\n",
      "  4.72524166e-02  9.58062336e-03  4.67110574e-02  3.52374953e-03\n",
      " -6.84247166e-03 -6.18194491e-02 -7.68527761e-02  3.66971791e-02\n",
      "  7.27542792e-05 -1.47775505e-02 -5.42816408e-02  6.76795025e-04\n",
      " -4.59972695e-02  3.40237543e-02 -4.48032888e-03 -7.04052821e-02\n",
      " -2.66993884e-02  5.19265085e-02  6.37322199e-03  8.18768442e-02\n",
      " -4.24824655e-02  3.05735487e-02  2.68435292e-02 -5.60146235e-02\n",
      "  1.05602220e-02  4.97399308e-02  3.51453684e-02  4.71564122e-02\n",
      " -1.77411679e-02  9.53977555e-03  1.34900631e-02 -3.80262989e-03\n",
      "  2.69160438e-02  3.17806145e-04 -4.88002300e-02  1.52730104e-02\n",
      "  3.56380851e-03  1.10029140e-02  1.82808526e-02  2.56793536e-02\n",
      "  5.70624508e-02 -3.82738076e-02 -2.20718216e-02  1.84372775e-02\n",
      "  1.39299210e-03  6.33677514e-03 -5.16256085e-03  1.95885822e-02\n",
      "  2.87943650e-02  1.03927823e-02 -5.76099195e-02  2.30747089e-02\n",
      " -4.33857217e-02 -6.59392625e-02  1.28544541e-02 -6.38925880e-02\n",
      "  4.30599321e-03 -2.37187967e-02  1.58825070e-02  1.29222870e-02\n",
      " -4.12547737e-02 -3.86699885e-02  6.36546984e-02  3.43350916e-06\n",
      " -8.49626772e-03  3.43007222e-02  1.91256292e-02 -1.45728386e-03\n",
      " -3.02516036e-02 -8.76670238e-03  4.08350900e-02  4.12849337e-03\n",
      " -5.52450903e-02  3.68652791e-02 -3.09521426e-02 -2.16224673e-03\n",
      " -2.53933831e-03 -3.39325853e-02 -2.67671477e-02  6.10455358e-03\n",
      "  3.22822528e-03  5.12539409e-03 -1.72511151e-03 -1.03540167e-01\n",
      " -5.28449938e-02  1.26474188e-03 -2.70887744e-02 -3.91259193e-02\n",
      " -3.43274977e-03  1.26331439e-02  2.04498619e-02 -1.15061447e-03\n",
      " -5.07167308e-03 -1.98181923e-02  3.36483754e-02  6.16528839e-02\n",
      "  6.06283080e-03 -6.91691786e-02 -5.54088429e-02 -1.80393625e-02\n",
      " -6.92368625e-03  3.26419026e-02  4.90445411e-03 -4.96721491e-02\n",
      " -1.38549751e-03  2.14449898e-03  2.02384517e-02 -1.21734636e-02\n",
      "  4.48047183e-02 -7.09418356e-02  6.40072068e-03  5.66108199e-03\n",
      "  7.99996778e-02  8.38833228e-02  3.84651497e-02  1.13146707e-01\n",
      " -1.19969994e-02 -2.38377638e-02  4.53928187e-02 -8.12380854e-03\n",
      " -2.29197394e-04  4.90678623e-02 -2.60968432e-02  5.36174141e-03\n",
      "  1.49002357e-03  3.74517329e-02  5.77094890e-02  2.33266763e-02\n",
      " -1.12191550e-02  2.51070037e-02 -1.48596866e-02 -8.46162718e-03\n",
      " -7.27731213e-02 -5.92736416e-02 -2.31561251e-02  1.97592471e-02\n",
      "  5.75864762e-02 -1.24196075e-02  2.45724656e-02 -3.85869369e-02\n",
      "  1.12911919e-02 -4.94904304e-03 -4.72135395e-02  2.47738566e-02\n",
      "  3.19251306e-02  2.02118177e-02  4.60985256e-03  3.16925347e-02\n",
      " -2.18355730e-02  1.54269049e-02 -1.25519587e-02  5.27299680e-02\n",
      "  2.74008997e-02  2.36028004e-02 -4.43901634e-03 -2.86318846e-02\n",
      " -1.81875546e-02 -3.64779867e-02 -2.48934068e-02 -7.28059858e-02\n",
      " -3.26467003e-03 -1.49098469e-03  5.82214678e-03  1.19634140e-02\n",
      " -8.18235427e-02 -2.36845799e-02  2.76351385e-02 -2.70509217e-02\n",
      " -4.01101857e-02 -6.08469220e-03 -5.30436821e-02  2.07983516e-02\n",
      "  3.47127058e-02 -2.53547300e-02 -1.02993613e-02 -3.63543220e-02\n",
      "  5.94719686e-02  1.45126507e-02 -4.81239185e-02  8.79047737e-02\n",
      "  1.82800982e-02  3.81578691e-03  3.33485031e-03 -2.33509205e-02\n",
      " -5.40298112e-02  4.19224799e-02  4.35457077e-05 -1.68722086e-02\n",
      "  6.34414726e-04  5.79451099e-02 -1.43354498e-02  2.29788534e-02\n",
      "  2.79557500e-02 -5.61310118e-03 -9.09404655e-04  1.64279882e-02\n",
      "  3.19037661e-02 -1.05184622e-01  2.38298438e-02 -1.25354277e-02\n",
      " -4.88625690e-02  1.28125791e-02  3.56031433e-02 -5.78170791e-02\n",
      " -6.65761232e-02  4.41986248e-02  2.01296993e-03  8.38586222e-03\n",
      " -4.23811153e-02 -4.51346440e-03 -7.48765394e-02  6.83994666e-02\n",
      "  1.00251324e-02  2.94613075e-02 -3.92393246e-02 -1.12553155e-02\n",
      "  2.79880725e-02 -5.52147850e-02  2.22328305e-02 -5.89617491e-02\n",
      "  1.47710871e-02  1.87821425e-02  5.59150707e-03  1.82993189e-02\n",
      " -6.24339506e-02 -3.99125321e-03  3.22621944e-03 -4.93065454e-02\n",
      " -1.94173139e-02  2.24287882e-02  2.29391400e-02 -2.20737886e-03\n",
      " -1.19603379e-02  1.43146031e-02  3.53296548e-02 -3.44811417e-02\n",
      " -3.83206978e-02  6.25754073e-02  4.66415472e-02 -2.89424248e-02\n",
      " -9.05605091e-04 -3.08143906e-02  1.75269432e-02  1.20397564e-02\n",
      "  7.37236254e-03  2.29606554e-02  1.48363656e-03 -1.23129012e-02\n",
      " -2.91464292e-02 -3.02033052e-02 -6.91954494e-02  4.36503021e-03\n",
      " -1.35427229e-02 -3.79706584e-02  2.86028758e-02 -6.50294051e-02\n",
      " -3.06761358e-02  1.45280026e-02  5.50787337e-02  2.16543600e-02\n",
      "  2.13014963e-03  1.02813039e-02  1.76272728e-02 -9.81424656e-03\n",
      " -3.92661840e-02  4.67814319e-02 -2.76333615e-02 -1.19480900e-02\n",
      " -1.31179253e-02 -5.81251364e-03  7.04510370e-03 -1.09557519e-02\n",
      " -9.03500170e-02 -9.44748446e-02 -1.94099825e-02  3.86918150e-02\n",
      "  2.10944675e-02  1.92263592e-02 -3.05454843e-02  3.20800692e-02\n",
      " -1.25736166e-02  4.29058000e-02  3.93686220e-02 -1.42694442e-02\n",
      "  3.07255313e-02  1.20590776e-02 -6.12071203e-03  4.94571030e-02\n",
      " -1.94700039e-03 -8.04705638e-03  2.19468735e-02 -2.82115396e-02\n",
      " -4.53274548e-02  4.31807479e-03 -5.42755798e-02  1.99365988e-02\n",
      "  2.12051347e-03  1.44002202e-03 -1.75995585e-02 -3.38713974e-02\n",
      "  8.49276688e-03  3.35036032e-02 -7.54014105e-02 -5.74961565e-02\n",
      " -2.53693759e-02  4.08971421e-02 -3.35614793e-02  2.52468213e-02\n",
      " -3.35380659e-02 -6.32554619e-03 -1.42695596e-02  4.75851335e-02\n",
      "  1.02258828e-02  2.97203287e-02  3.96145061e-02 -9.34810042e-02\n",
      " -1.89154502e-02  2.55827401e-02 -4.30834405e-02  2.04077046e-02\n",
      " -4.72002700e-02  1.45463590e-02 -1.75371207e-03  1.13528231e-02\n",
      "  1.15917344e-02  2.28660852e-02 -6.34508356e-02  1.47842662e-02\n",
      " -3.72625366e-02  2.10190993e-02  2.23516319e-02 -1.40326051e-02\n",
      " -1.24983932e-03 -4.56303060e-02  3.18165012e-02 -7.65233161e-03\n",
      " -8.48273281e-04  1.41214747e-02  6.35773465e-02 -3.99807394e-02\n",
      " -1.36848064e-02  2.23052315e-02  2.17967499e-02 -4.16497700e-02\n",
      " -6.43500388e-02  2.76488066e-02 -1.26893483e-02 -5.30623198e-02\n",
      "  2.26988643e-02  2.43421718e-02 -5.74823208e-02  1.33286519e-02\n",
      " -6.21909322e-03  3.61784771e-02  4.71230410e-02 -2.97926813e-02\n",
      "  1.52174244e-02 -5.54655269e-02  5.19218966e-02  1.01800999e-02\n",
      "  3.74246724e-02 -1.50996854e-03 -1.99338980e-02  3.24009024e-02\n",
      "  4.02577147e-02 -5.11782244e-02 -2.63885800e-02  2.81549934e-02\n",
      " -5.15224412e-02  1.09587908e-02  2.71724295e-02 -5.99141426e-33\n",
      " -4.61421646e-02 -4.23173383e-02 -1.67188328e-02  3.73255014e-02\n",
      " -4.61218432e-02 -2.15667449e-02 -1.65635310e-02  5.16206361e-02\n",
      "  2.91250385e-02  6.20497167e-02 -2.03374457e-02  2.79692654e-02\n",
      "  3.66976969e-02  2.21637804e-02  7.45073333e-02 -3.22242151e-03\n",
      "  2.77555119e-02  6.52090926e-03  4.98224562e-03 -4.55225408e-02\n",
      " -2.88827554e-03 -9.37113632e-03  5.39528616e-02  2.08806396e-02\n",
      "  3.83370258e-02 -1.57754701e-02 -2.27227844e-02 -1.31495176e-02\n",
      "  1.99728739e-02  3.26069370e-02 -2.48872992e-02  1.23166200e-02\n",
      " -1.51987104e-02  1.10158622e-02  9.44329053e-03  8.21157619e-02\n",
      "  9.64482594e-03 -5.08845784e-02  3.87344584e-02 -2.39819437e-02\n",
      " -3.33574452e-02 -6.19320311e-02 -1.11229895e-02 -5.58355339e-02\n",
      "  6.19736910e-02 -1.69196688e-02  4.15019915e-02 -2.09720172e-02\n",
      "  5.73131954e-03  8.57901853e-03 -5.86885624e-02 -1.12907970e-02\n",
      "  6.37767487e-04  6.87231719e-02  1.00053791e-02  3.54055278e-02\n",
      "  8.07907060e-03  1.76471677e-02 -2.19168086e-02  3.76119092e-02\n",
      " -3.89818125e-03  9.18031260e-02 -1.08761638e-02 -6.23476468e-02\n",
      " -1.35752726e-02  3.57578471e-02 -1.14120413e-02 -3.42903310e-03\n",
      " -3.46071087e-02  7.45991096e-02 -2.34830193e-02  6.77838698e-02\n",
      "  2.97471741e-03  7.37742186e-02 -1.56190889e-02 -8.05377588e-03\n",
      " -5.19048758e-02 -2.83664856e-02  5.06660063e-03 -1.04815885e-02\n",
      "  1.76374875e-02  1.79908350e-02  6.60817372e-04 -3.94585170e-02\n",
      " -1.35172829e-02 -8.75229295e-03  2.63499357e-02 -2.61224005e-02\n",
      "  5.23411781e-02 -2.09162962e-02 -2.31539775e-02 -4.42434801e-03\n",
      "  2.16242485e-02  1.97309181e-02 -3.69445831e-02  4.66764905e-02\n",
      " -1.30797168e-02 -4.01282537e-04 -8.66925996e-03  3.45300063e-02\n",
      " -5.18446714e-02 -2.96737123e-02 -1.53029831e-02  5.91484271e-03\n",
      "  3.60213369e-02  2.74789706e-02  2.82064807e-02  4.00676392e-03\n",
      " -9.97015461e-02 -8.29702523e-03  2.31553204e-02 -2.55013760e-02\n",
      " -2.81154327e-02  6.83580060e-03 -4.93260706e-03  3.62294842e-03\n",
      " -7.81385414e-03  7.15459436e-02 -2.38050353e-02 -6.59092367e-02\n",
      " -2.17578337e-02  1.96545608e-02  2.48008547e-03 -9.13039222e-03\n",
      " -1.21909091e-02 -4.54895059e-03 -2.05129422e-02  5.24953119e-02\n",
      "  3.82367522e-02 -2.03311238e-02  2.47482043e-02  3.57695222e-02\n",
      "  2.33143510e-07 -1.71384425e-03  2.28040218e-02  5.06219938e-02\n",
      "  4.86921519e-02  6.02177856e-03  2.46718712e-03  3.01764384e-02\n",
      " -1.33057851e-02 -2.90282536e-02  5.88514749e-03  3.55134085e-02\n",
      " -2.20333319e-03  1.92670133e-02  3.27016450e-02 -7.60591999e-02\n",
      "  3.08769289e-02 -4.25111614e-02 -6.23767711e-02 -3.17472816e-02\n",
      " -1.58935208e-02  8.95298123e-02  6.29931092e-02  3.53811644e-02\n",
      "  4.89306562e-02 -1.93265304e-02 -2.36167144e-02  1.39257675e-02\n",
      " -3.35589889e-03 -2.03020908e-02  1.25537878e-02 -3.32358852e-02\n",
      " -4.20750640e-02 -1.31272282e-02  1.11988848e-02 -1.84815787e-02\n",
      " -1.07769798e-02  3.37351076e-02  4.44298461e-02  3.82315591e-02\n",
      "  4.57887053e-02 -3.54074389e-02 -1.02399243e-02 -3.95739526e-02\n",
      " -3.64505015e-02  1.32280309e-02 -3.80343534e-02  6.11774251e-03\n",
      " -1.86848398e-02  1.58430580e-02 -7.96986464e-03  3.23967189e-02\n",
      "  3.23468260e-02  2.25449670e-02 -1.41448732e-02  5.76616358e-03\n",
      " -5.40468059e-02  2.36878693e-02 -4.38574031e-02 -8.39874335e-03\n",
      " -6.15581637e-03 -1.34777958e-02 -1.57500245e-02 -2.78317109e-02\n",
      "  7.60596711e-03  5.47016189e-02  1.94105983e-03 -4.60631698e-02\n",
      "  1.73852871e-34  1.89645067e-02 -3.54341008e-02  3.50972153e-02\n",
      "  6.22209273e-02 -1.22190826e-02 -6.77727675e-03 -5.48247322e-02\n",
      "  3.47667001e-02 -7.32365390e-03 -6.11830130e-02 -1.40541568e-02]\n",
      "Sentence: I like horses!\n",
      "Embedding: [-2.67144162e-02  1.31017998e-01 -3.86219472e-02  8.03856552e-03\n",
      "  2.97369137e-02  4.18423042e-02 -2.23038867e-02  2.32261177e-02\n",
      "  4.10415567e-02 -2.95188092e-02 -3.46263833e-02 -1.83776729e-02\n",
      " -4.16668318e-02 -3.50137465e-02 -2.38864636e-03 -3.45177129e-02\n",
      "  3.66863720e-02 -9.95052885e-03 -1.36515191e-02  3.32557932e-02\n",
      "  2.50876881e-02  4.92446050e-02 -4.98318896e-02 -3.70693468e-02\n",
      " -8.86961538e-03  1.86221711e-02 -3.02470475e-02 -8.31604823e-02\n",
      "  4.80912067e-02  5.41727282e-02 -4.70784456e-02 -3.58009674e-02\n",
      "  2.20624171e-02 -5.00782439e-03  1.42282181e-06 -1.15011085e-03\n",
      " -5.59794530e-02  3.81627195e-02  1.37143610e-02  2.09261402e-02\n",
      "  1.77286174e-02 -4.40465435e-02 -1.82883162e-02 -3.46981101e-02\n",
      "  1.40275136e-02  6.92680385e-03  3.91349904e-02  1.17347315e-02\n",
      " -8.34451895e-03  2.72798780e-02 -6.54874602e-03  1.99991856e-02\n",
      " -6.94845840e-02  3.48813040e-03  2.37389579e-02  3.51724923e-02\n",
      "  1.91240534e-02 -5.14323264e-02  2.78951097e-02  7.01117271e-04\n",
      " -1.24893989e-03 -7.77337179e-02  5.04702283e-03  7.82279111e-03\n",
      "  1.70376599e-02 -2.29355399e-04 -2.19660681e-02 -6.28654286e-03\n",
      "  8.83768685e-03  1.61731038e-02  4.74320585e-03  1.63856819e-02\n",
      "  1.98698714e-02  2.87376959e-02 -1.13958372e-02  1.21814609e-02\n",
      " -3.25766020e-03  7.47990832e-02  2.07085884e-03  2.13714130e-03\n",
      "  2.36540148e-03  6.81826286e-03  1.78420376e-02 -6.76719192e-03\n",
      " -1.13651538e-02  3.47163752e-02  3.99641730e-02  6.02459419e-04\n",
      "  2.50220336e-02  3.51954550e-02 -3.58676836e-02 -1.77029464e-02\n",
      "  4.12770174e-02  4.19989079e-02 -4.30352911e-02 -3.04896440e-02\n",
      "  1.79912318e-02  3.39752175e-02  5.67291304e-02 -3.72519270e-02\n",
      "  7.71263149e-03  2.32814346e-02 -3.23417932e-02 -2.01844368e-02\n",
      " -2.13816259e-02 -2.77471058e-02  1.32658873e-02 -3.97539027e-02\n",
      "  6.59545511e-02 -1.38212610e-02 -9.20047797e-03  8.40002671e-03\n",
      "  2.81347036e-02  4.15300094e-02 -5.64232515e-03 -4.35976358e-03\n",
      "  1.77122653e-02  2.02861000e-02 -1.31512322e-02  1.41239548e-02\n",
      " -4.01487350e-02 -6.16061129e-02  3.30247246e-02  4.27827053e-02\n",
      " -3.56697179e-02  8.99664033e-03 -4.70690280e-02  3.80768701e-02\n",
      " -4.82298061e-02 -4.26932462e-02 -7.96999503e-03  5.02469297e-03\n",
      "  2.38698833e-02 -4.13715839e-02  3.72231454e-02  5.26337735e-02\n",
      " -1.24459295e-02  5.02866751e-04  1.85009129e-02 -1.01251071e-02\n",
      "  3.01014334e-02  7.05223437e-03 -3.35082226e-02  7.10092764e-03\n",
      "  1.53240133e-02  9.82488599e-03  2.05332525e-02  1.51325448e-03\n",
      " -9.56341624e-03  3.18279713e-02  7.05029815e-03  2.75495145e-02\n",
      " -8.35546628e-02  7.22243451e-04 -3.07106525e-02 -2.28442927e-03\n",
      " -3.29813734e-02 -1.86590385e-02  2.09018365e-02  4.57937345e-02\n",
      "  5.31819239e-02  6.56177197e-03 -1.76373241e-03 -2.55267844e-02\n",
      " -3.00172511e-02 -6.81450069e-02  2.76180822e-02 -1.68422386e-02\n",
      "  2.72240918e-02 -3.77175286e-02  3.64565849e-02 -2.31931191e-02\n",
      " -3.39561924e-02 -2.45280135e-02  6.90309554e-02 -7.11450400e-03\n",
      "  9.94261354e-02  3.98893282e-02  2.19163187e-02 -4.04605307e-02\n",
      "  3.13975923e-02 -6.93095177e-02  3.09212934e-02  1.91145055e-02\n",
      "  4.83727008e-02  1.97972208e-02  3.27673182e-02  4.79415096e-02\n",
      " -2.59471359e-03  5.95353823e-03  1.48088206e-02 -1.33875888e-02\n",
      " -1.18511347e-02  1.80748813e-02 -2.51694513e-03  2.23801956e-02\n",
      "  2.03121528e-02 -5.51624410e-02  5.08648716e-02 -1.74927190e-02\n",
      "  1.03711756e-02  5.48303723e-02 -4.66480525e-03  4.06193025e-02\n",
      "  1.64948832e-02 -1.50217849e-03 -3.87123227e-02 -4.08384390e-03\n",
      "  2.24078037e-02 -2.66852621e-02  7.18928501e-02 -1.56481359e-02\n",
      "  2.15382557e-02 -3.24761891e-03  4.30515595e-02  5.54415509e-02\n",
      "  1.54590523e-02 -2.34077964e-02 -4.02785130e-02  1.09013155e-01\n",
      " -3.61077785e-02 -3.90354963e-03  9.66882110e-02  3.55333909e-02\n",
      " -2.49860752e-02  4.56152335e-02  1.12770535e-02  3.19718532e-02\n",
      " -8.21711775e-03 -1.45097468e-02 -1.38146952e-02  2.27995100e-03\n",
      "  5.81482314e-02 -1.65188208e-03  3.89425759e-03 -3.25093744e-03\n",
      "  4.48074751e-02  4.96553890e-02 -1.68224536e-02 -4.11297418e-02\n",
      " -1.91904220e-03 -9.49496124e-03  5.89219667e-03  4.09448110e-02\n",
      "  1.46510103e-03 -5.32164164e-02 -2.95555610e-02  1.46509139e-02\n",
      " -3.67850922e-02  1.48291998e-02 -5.90046942e-02 -2.52038818e-02\n",
      " -5.49021512e-02  2.71408670e-02 -2.80366302e-03 -3.59129161e-02\n",
      " -3.64186689e-02 -1.44418618e-02  1.95452999e-02 -6.66407868e-02\n",
      "  9.53727290e-02 -9.99759510e-03 -2.48823930e-02  6.06881417e-02\n",
      " -4.30382714e-02  4.59873639e-02  1.21796597e-02 -4.70495410e-02\n",
      " -1.12133473e-02  4.05429583e-03 -1.83669571e-02 -2.00733859e-02\n",
      "  8.09303951e-03  5.61415870e-03  2.90131173e-03 -4.12400626e-03\n",
      " -2.45109703e-02 -6.07830323e-02  3.15642282e-02  3.81212234e-02\n",
      " -2.57495139e-02 -9.00121406e-03  3.79892401e-02  3.19090299e-02\n",
      " -1.12440549e-02  1.84566919e-02 -1.08609172e-02  2.46243235e-02\n",
      "  2.10185982e-02 -5.99230006e-02 -1.32947937e-02  1.88184716e-02\n",
      " -9.76740010e-03  9.56685841e-03  2.00246181e-02 -2.43596993e-02\n",
      " -7.47998357e-02 -5.50076105e-02  2.16923677e-03 -1.73597056e-02\n",
      " -1.04215974e-02  2.91754883e-02  2.50065438e-02  2.84176078e-02\n",
      "  3.87750193e-02  1.19252447e-02  3.72134186e-02  3.90468799e-02\n",
      " -1.65001098e-02  6.95834756e-02 -1.63944308e-02 -7.37078562e-02\n",
      " -3.43168527e-02  2.05576746e-03  9.86350104e-02  5.81432991e-02\n",
      " -2.93991491e-02 -3.82711701e-02  3.70079353e-02  4.88188304e-02\n",
      " -1.09365936e-02  2.00261176e-02  3.07366084e-02  3.93033028e-02\n",
      " -5.45122027e-02  9.67301428e-03  3.63564678e-02 -8.13300442e-03\n",
      "  3.40571664e-02 -2.40374561e-02  1.62689891e-02 -6.15119282e-03\n",
      "  6.18251301e-02  1.78102441e-02  2.62790918e-02 -4.31745537e-02\n",
      "  2.31975224e-02  4.30519991e-02 -1.22825541e-02  2.35076831e-03\n",
      "  1.26593327e-02 -2.33552791e-02 -5.29602244e-02 -4.72016595e-02\n",
      " -4.13432494e-02 -3.42140719e-02 -6.31477907e-02 -5.49499728e-02\n",
      " -4.36870242e-03 -3.53800394e-02 -1.97227504e-02 -7.51109049e-03\n",
      "  2.12542992e-03  4.76517268e-02  1.09922132e-02  3.04179378e-02\n",
      "  1.46337422e-02  3.07518225e-02 -1.45270238e-02 -1.70471221e-02\n",
      "  3.67471687e-02  4.42354828e-02  3.12824957e-02 -2.07043570e-02\n",
      " -3.52867693e-02 -2.42242683e-02  1.73002165e-02 -5.09644859e-02\n",
      " -5.22650406e-02 -6.42452436e-03 -2.20864061e-02 -2.42288392e-02\n",
      " -1.85503177e-02  2.09546387e-02 -2.66730785e-02  7.72047415e-02\n",
      "  3.55064645e-02  4.87249419e-02  6.55237362e-02 -1.83373224e-02\n",
      "  4.43752855e-02 -1.96081307e-02 -4.16714838e-03  1.72038730e-02\n",
      " -7.87351951e-02  1.13609610e-02  3.29830796e-02 -3.34833190e-02\n",
      " -5.91835119e-02 -5.16823120e-03  3.64363268e-02  5.87297278e-03\n",
      " -6.47325441e-02 -6.63173571e-02  2.19204538e-02 -1.38641419e-02\n",
      " -7.08775595e-02  3.66111845e-02  1.24158394e-02  1.85580421e-02\n",
      " -9.74488258e-03  7.25328103e-02  3.39582525e-02 -3.37731875e-02\n",
      " -1.80621538e-02  1.93781592e-02  2.81450041e-02  5.28941723e-03\n",
      "  4.20942493e-02 -1.23083293e-01 -7.94751421e-02  9.75956861e-03\n",
      " -2.79009510e-02  1.05111636e-02  3.45777371e-03 -1.75463352e-02\n",
      "  1.61945838e-02 -3.45510617e-02  4.52594319e-03 -2.37187394e-03\n",
      " -1.51141416e-02 -2.47375723e-02 -1.73723549e-02 -2.17887312e-02\n",
      " -3.81727517e-02 -2.62229163e-02  5.28297685e-02  4.99212593e-02\n",
      " -7.42876343e-03 -9.25582193e-04 -3.52285765e-02  7.01327622e-03\n",
      "  2.04047561e-02 -2.87854224e-02 -6.26717359e-02 -3.56785208e-02\n",
      " -9.65088978e-03  3.77315804e-02 -2.32007187e-02 -5.49367815e-02\n",
      " -4.15531024e-02  4.60585393e-02 -2.85465978e-02 -1.02312295e-02\n",
      "  4.15115394e-02  4.87313569e-02 -5.12897111e-02 -2.63644960e-02\n",
      "  4.78796214e-02  4.24946658e-03 -1.24509595e-02  1.37372371e-02\n",
      " -2.45816726e-02  3.30335274e-02 -3.50705720e-03 -5.78273926e-03\n",
      "  5.48210694e-03 -7.99308121e-02  1.17996885e-02  2.62449067e-02\n",
      "  7.02878460e-02  3.68170091e-03 -2.48584598e-02  1.60750765e-02\n",
      "  9.65209038e-04  1.82267036e-02  9.39309690e-03 -2.96558701e-02\n",
      "  3.92312743e-03 -5.14190607e-02 -1.69606637e-02 -1.98428575e-02\n",
      " -3.49020725e-03  3.12085245e-02  3.27818282e-02  5.27704172e-02\n",
      "  4.46239999e-03  1.18340543e-02  2.50518899e-02 -4.76562157e-02\n",
      " -7.44548291e-02  5.99202812e-02 -5.69952512e-03 -1.62267673e-03\n",
      " -1.20007561e-03 -3.23642157e-02  3.44796339e-03 -2.37544421e-02\n",
      "  4.43040114e-03 -3.08272559e-02 -3.59355249e-02  4.43719188e-03\n",
      " -4.75262627e-02 -8.31951946e-02  4.26748674e-03  6.36712238e-02\n",
      "  2.90642586e-02 -6.99088275e-02  1.03362678e-02  1.88462287e-02\n",
      " -3.32860872e-02  3.96925025e-02 -9.97587014e-03  6.79316223e-02\n",
      "  2.69873142e-02 -3.28909839e-03 -1.17855314e-02  3.25950270e-04\n",
      " -1.81754157e-02 -2.56637507e-03  1.76421162e-02 -7.90657662e-03\n",
      " -4.59222011e-02 -1.44926095e-02  7.05569535e-02  7.63444602e-02\n",
      " -2.13224553e-02 -7.01024309e-02 -2.44030319e-02 -4.42189574e-02\n",
      " -1.92244705e-02 -3.43550602e-03 -5.37872175e-03  1.60381161e-02\n",
      "  4.31606267e-03  2.63602398e-02  9.25265532e-03 -5.00051416e-02\n",
      " -2.23820116e-02  2.37111747e-02 -3.18208560e-02  1.91114366e-03\n",
      "  2.22122557e-02 -2.86414940e-02 -3.01541090e-02  4.24447395e-02\n",
      "  3.16200331e-02 -4.11089091e-03 -1.94385480e-02  4.66425158e-02\n",
      " -2.17026304e-02 -2.05977494e-03  2.94458382e-02 -8.11043158e-02\n",
      " -3.00531127e-02  8.84193275e-03  5.94104603e-02 -4.32767160e-02\n",
      " -3.30852941e-02 -3.78850885e-02 -7.49543356e-03 -2.94030327e-02\n",
      " -2.78828982e-02 -6.97876886e-02 -1.04949601e-01 -6.08098950e-33\n",
      " -5.51380925e-02  5.61125437e-03 -2.12248154e-02 -1.64440721e-02\n",
      " -1.91946197e-02 -6.31383732e-02  7.29616508e-02  5.43050803e-02\n",
      "  9.38577950e-03  5.87568320e-02 -4.03266102e-02 -1.17489072e-02\n",
      " -3.14356061e-03  3.06384522e-03  1.02371396e-02  9.91446618e-03\n",
      "  4.25155163e-02  1.35757504e-02 -1.42615777e-03 -1.04992464e-02\n",
      "  1.34480111e-02  1.84357334e-02  2.05373261e-02 -2.03613862e-02\n",
      "  5.92006296e-02  4.36169170e-02 -1.34566762e-02 -2.44422033e-02\n",
      "  1.97253823e-02  7.98829123e-02 -2.71728495e-03 -2.49471534e-02\n",
      " -5.54746436e-03 -5.11283092e-02 -1.14621259e-02  7.02913254e-02\n",
      " -3.59583646e-02  6.75166957e-03  7.97253568e-03  2.47954912e-02\n",
      "  8.60149711e-02 -6.06778637e-02  5.15736863e-02 -8.29937607e-02\n",
      " -6.10614289e-03  5.53282164e-03  3.96847576e-02  4.83613461e-02\n",
      "  5.62811419e-02  3.28994840e-02 -3.95439304e-02 -6.64222240e-02\n",
      " -6.01473171e-03 -2.22541299e-02  4.40150201e-02 -1.99888237e-02\n",
      "  4.15038578e-02  4.01954958e-03  6.46280032e-03 -7.56394118e-03\n",
      " -2.00565699e-02 -4.12345156e-02 -5.27453721e-02  1.99447926e-02\n",
      " -2.42805555e-02  9.00407210e-02 -1.36357173e-03 -2.23541185e-02\n",
      "  1.24891056e-03  2.67293639e-02 -4.62033711e-02 -4.11438756e-03\n",
      "  1.04216849e-02 -2.03547776e-02 -3.05202650e-03  2.12044287e-02\n",
      " -2.47738194e-02 -2.73370352e-02 -7.42392987e-02  2.22837850e-02\n",
      "  1.23512680e-02 -1.80119881e-03 -1.29682152e-02  2.24856529e-02\n",
      "  2.74916105e-02  4.72554937e-02  1.47988861e-02 -7.57991942e-03\n",
      " -6.21416122e-02 -1.62537079e-02  2.41620187e-02  1.02008376e-02\n",
      " -1.31031014e-02 -8.06468260e-03 -2.23882422e-02 -8.22523143e-03\n",
      " -2.31066290e-02 -4.72937152e-02 -9.15292650e-03 -8.02165549e-03\n",
      "  6.06632978e-02 -5.54483244e-03 -1.17456550e-02  1.09999739e-02\n",
      "  1.48121361e-02  7.78214540e-03  1.76356602e-02 -2.45958585e-02\n",
      " -6.22096919e-02  4.78604175e-02  4.24518599e-04  4.90716025e-02\n",
      "  4.79639359e-02  1.08700052e-01  4.72227298e-02 -2.13419907e-02\n",
      "  1.43254604e-02  5.01378775e-02 -5.37697710e-02 -6.70112204e-03\n",
      "  5.06176986e-03 -1.76748112e-02 -8.18694010e-02  1.33882137e-03\n",
      "  9.54755396e-03 -2.69554779e-02 -8.88633262e-03 -6.27401248e-02\n",
      " -3.88119146e-02 -2.61610299e-02  1.80818308e-02 -1.85253303e-02\n",
      "  2.16867463e-07 -3.05570848e-02 -1.17482832e-02  3.86133716e-02\n",
      "  3.74167003e-02  2.54941285e-02  5.64584471e-02 -1.09359138e-02\n",
      " -3.30962683e-03  1.25073586e-02  9.65327919e-02 -1.43616898e-02\n",
      "  3.24687213e-02  3.97201888e-02 -4.94122040e-03 -2.60989578e-03\n",
      " -6.81308582e-02 -1.66516397e-02 -2.99732536e-02  3.99063388e-03\n",
      " -8.13997537e-03 -9.24562588e-02 -2.10931562e-02 -1.69722047e-02\n",
      " -2.74132611e-03 -1.28149120e-02  2.96035875e-02 -6.09660055e-04\n",
      " -3.85000706e-02  4.86928737e-03  3.31278220e-02 -6.07115664e-02\n",
      "  3.97328176e-02 -2.65968181e-02  1.81749593e-02  2.81270482e-02\n",
      " -1.95648856e-02 -1.59012005e-02 -2.35990752e-02  1.40775060e-02\n",
      "  6.34064227e-02 -3.07723563e-02  1.13034390e-01 -2.16423739e-02\n",
      "  4.25003842e-02  8.88852403e-03  5.16530126e-02  1.31781399e-03\n",
      " -1.07091345e-01  4.95355725e-02 -1.30838966e-02 -2.18528211e-02\n",
      " -2.33550998e-03  2.22142264e-02 -8.58263811e-04  7.25464383e-03\n",
      " -2.40623020e-03  4.42727795e-03 -4.03266102e-02  8.73128884e-03\n",
      " -4.62856479e-02 -9.82048735e-03  7.88557250e-03 -5.59531990e-03\n",
      "  4.54911813e-02 -8.76703393e-03 -4.82471809e-02 -1.01598784e-01\n",
      "  1.12966293e-34  1.71272345e-02 -4.39228006e-02 -3.20056267e-02\n",
      "  2.03909185e-02  2.53922809e-02 -1.92606058e-02  5.61988093e-02\n",
      " -2.65362263e-02  6.99775219e-02  1.96202323e-02 -2.20128801e-02]\n"
     ]
    }
   ],
   "source": [
    "from sentence_transformers import SentenceTransformer\n",
    "embedding_model = SentenceTransformer(model_name_or_path=\"all-mpnet-base-v2\",\n",
    "                                      device=\"cuda\")\n",
    "\n",
    "# Create a list of sentences\n",
    "sentences = [\"The sentence transformer library provides an easy way to create embeddings.\",\n",
    "             \"Sentences can be embedded one by one or in a list.\",\n",
    "             \"I like horses!\"]\n",
    "\n",
    "# Sentences are encoded/embedded by calling model.encode\n",
    "\n",
    "embeddings = embedding_model.encode(sentences)\n",
    "embedding_dict = dict(zip(sentences, embeddings))\n",
    "\n",
    "# See the embeddings\n",
    "for sentence, embedding in embedding_dict.items():\n",
    "    print(f'Sentence: {sentence}')\n",
    "    print(f\"Embedding: {embedding}\")"
   ]
  },
  {
   "cell_type": "code",
   "execution_count": 65,
   "metadata": {},
   "outputs": [
    {
     "data": {
      "text/plain": [
       "(768,)"
      ]
     },
     "execution_count": 65,
     "metadata": {},
     "output_type": "execute_result"
    }
   ],
   "source": [
    "embeddings[0].shape"
   ]
  },
  {
   "cell_type": "code",
   "execution_count": 66,
   "metadata": {},
   "outputs": [
    {
     "data": {
      "application/vnd.jupyter.widget-view+json": {
       "model_id": "bb0eb2b5844442d88d1686dd46f131bd",
       "version_major": 2,
       "version_minor": 0
      },
      "text/plain": [
       "  0%|          | 0/1680 [00:00<?, ?it/s]"
      ]
     },
     "metadata": {},
     "output_type": "display_data"
    },
    {
     "name": "stdout",
     "output_type": "stream",
     "text": [
      "CPU times: total: 6min 20s\n",
      "Wall time: 1min 4s\n"
     ]
    }
   ],
   "source": [
    "%%time\n",
    "\n",
    "embedding_model.to(\"cuda\")\n",
    "for item in tqdm(pages_and_chunks_over_min_token_length):\n",
    "    item[\"embedding\"] = embedding_model.encode(item[\"sentence_chunk\"])"
   ]
  },
  {
   "cell_type": "code",
   "execution_count": 67,
   "metadata": {},
   "outputs": [
    {
     "name": "stdout",
     "output_type": "stream",
     "text": [
      "CPU times: total: 0 ns\n",
      "Wall time: 1 ms\n"
     ]
    },
    {
     "data": {
      "text/plain": [
       "'often. • Calm your “sweet tooth” by eating fruits, such as berries or an apple. • Replace sugary soft drinks with seltzer water, tea, or a small amount of 100 percent fruit juice added to water or soda water. The Food Industry: Functional Attributes of Carbohydrates and the Use of Sugar Substitutes In the food industry, both fast-releasing and slow-releasing carbohydrates are utilized to give foods a wide spectrum of functional attributes, including increased sweetness, viscosity, bulk, coating ability, solubility, consistency, texture, body, and browning capacity. The differences in chemical structure between the different carbohydrates confer their varied functional uses in foods. Starches, gums, and pectins are used as thickening agents in making jam, cakes, cookies, noodles, canned products, imitation cheeses, and a variety of other foods. Molecular gastronomists use slow- releasing carbohydrates, such as alginate, to give shape and texture to their fascinating food creations. Adding fiber to foods increases bulk. Simple sugars are used not only for adding sweetness, but also to add texture, consistency, and browning. In ice cream, the combination of sucrose and corn syrup imparts sweetness as well as a glossy appearance and smooth texture.'"
      ]
     },
     "execution_count": 67,
     "metadata": {},
     "output_type": "execute_result"
    }
   ],
   "source": [
    "%%time\n",
    "\n",
    "text_chunks = [item[\"sentence_chunk\"] for item in pages_and_chunks_over_min_token_length]\n",
    "text_chunks[419]"
   ]
  },
  {
   "cell_type": "code",
   "execution_count": 68,
   "metadata": {},
   "outputs": [
    {
     "name": "stdout",
     "output_type": "stream",
     "text": [
      "CPU times: total: 2min 28s\n",
      "Wall time: 46.7 s\n"
     ]
    }
   ],
   "source": [
    "%%time\n",
    "\n",
    "# Embed all texts in batches instead since GPUs can parallel process!\n",
    "text_chunk_embeddings = embedding_model.encode(text_chunks,batch_size=16,convert_to_tensor=True)"
   ]
  },
  {
   "cell_type": "markdown",
   "metadata": {},
   "source": [
    "## 1.4 Store embeddings to file for later use"
   ]
  },
  {
   "cell_type": "code",
   "execution_count": 69,
   "metadata": {},
   "outputs": [],
   "source": [
    "text_chunks_and_embeddings_df = pd.DataFrame(pages_and_chunks_over_min_token_length)\n",
    "text_chunks_and_embeddings_df.head()\n",
    "embeddings_df_save_path = \"text_chunks_and_embeddings_df.csv\"\n",
    "text_chunks_and_embeddings_df.to_csv(embeddings_df_save_path, index=False)"
   ]
  },
  {
   "cell_type": "code",
   "execution_count": 70,
   "metadata": {},
   "outputs": [
    {
     "data": {
      "text/html": [
       "<div>\n",
       "<style scoped>\n",
       "    .dataframe tbody tr th:only-of-type {\n",
       "        vertical-align: middle;\n",
       "    }\n",
       "\n",
       "    .dataframe tbody tr th {\n",
       "        vertical-align: top;\n",
       "    }\n",
       "\n",
       "    .dataframe thead th {\n",
       "        text-align: right;\n",
       "    }\n",
       "</style>\n",
       "<table border=\"1\" class=\"dataframe\">\n",
       "  <thead>\n",
       "    <tr style=\"text-align: right;\">\n",
       "      <th></th>\n",
       "      <th>page_number</th>\n",
       "      <th>sentence_chunk</th>\n",
       "      <th>chunk_char_count</th>\n",
       "      <th>chunk_word_count</th>\n",
       "      <th>chunk_token_count</th>\n",
       "      <th>embedding</th>\n",
       "    </tr>\n",
       "  </thead>\n",
       "  <tbody>\n",
       "    <tr>\n",
       "      <th>0</th>\n",
       "      <td>-39</td>\n",
       "      <td>Human Nutrition: 2020 Edition UNIVERSITY OF HA...</td>\n",
       "      <td>308</td>\n",
       "      <td>42</td>\n",
       "      <td>77.00</td>\n",
       "      <td>[ 6.74242601e-02  9.02281627e-02 -5.09549398e-...</td>\n",
       "    </tr>\n",
       "    <tr>\n",
       "      <th>1</th>\n",
       "      <td>-38</td>\n",
       "      <td>Human Nutrition: 2020 Edition by University of...</td>\n",
       "      <td>210</td>\n",
       "      <td>30</td>\n",
       "      <td>52.50</td>\n",
       "      <td>[ 5.52156307e-02  5.92139363e-02 -1.66167244e-...</td>\n",
       "    </tr>\n",
       "    <tr>\n",
       "      <th>2</th>\n",
       "      <td>-37</td>\n",
       "      <td>Contents Preface University of Hawai‘i at Māno...</td>\n",
       "      <td>766</td>\n",
       "      <td>116</td>\n",
       "      <td>191.50</td>\n",
       "      <td>[ 2.79801954e-02  3.39813828e-02 -2.06426587e-...</td>\n",
       "    </tr>\n",
       "    <tr>\n",
       "      <th>3</th>\n",
       "      <td>-36</td>\n",
       "      <td>Lifestyles and Nutrition University of Hawai‘i...</td>\n",
       "      <td>941</td>\n",
       "      <td>144</td>\n",
       "      <td>235.25</td>\n",
       "      <td>[ 6.82566911e-02  3.81274968e-02 -8.46854039e-...</td>\n",
       "    </tr>\n",
       "    <tr>\n",
       "      <th>4</th>\n",
       "      <td>-35</td>\n",
       "      <td>The Cardiovascular System University of Hawai‘...</td>\n",
       "      <td>998</td>\n",
       "      <td>152</td>\n",
       "      <td>249.50</td>\n",
       "      <td>[ 3.30264382e-02 -8.49764328e-03  9.57158767e-...</td>\n",
       "    </tr>\n",
       "  </tbody>\n",
       "</table>\n",
       "</div>"
      ],
      "text/plain": [
       "   page_number                                     sentence_chunk  \\\n",
       "0          -39  Human Nutrition: 2020 Edition UNIVERSITY OF HA...   \n",
       "1          -38  Human Nutrition: 2020 Edition by University of...   \n",
       "2          -37  Contents Preface University of Hawai‘i at Māno...   \n",
       "3          -36  Lifestyles and Nutrition University of Hawai‘i...   \n",
       "4          -35  The Cardiovascular System University of Hawai‘...   \n",
       "\n",
       "   chunk_char_count  chunk_word_count  chunk_token_count  \\\n",
       "0               308                42              77.00   \n",
       "1               210                30              52.50   \n",
       "2               766               116             191.50   \n",
       "3               941               144             235.25   \n",
       "4               998               152             249.50   \n",
       "\n",
       "                                           embedding  \n",
       "0  [ 6.74242601e-02  9.02281627e-02 -5.09549398e-...  \n",
       "1  [ 5.52156307e-02  5.92139363e-02 -1.66167244e-...  \n",
       "2  [ 2.79801954e-02  3.39813828e-02 -2.06426587e-...  \n",
       "3  [ 6.82566911e-02  3.81274968e-02 -8.46854039e-...  \n",
       "4  [ 3.30264382e-02 -8.49764328e-03  9.57158767e-...  "
      ]
     },
     "execution_count": 70,
     "metadata": {},
     "output_type": "execute_result"
    }
   ],
   "source": [
    "# Check that we can saved file and view\n",
    "text_chunks_and_embeddings_df_load = pd.read_csv(embeddings_df_save_path)\n",
    "text_chunks_and_embeddings_df_load.head()"
   ]
  },
  {
   "cell_type": "markdown",
   "metadata": {},
   "source": [
    "CSVs aren't the most effective way to store this information.\n",
    "\n",
    "A slightly better way to do this is to store them in torch.tensor. \n",
    "This will work even for ~100k-1M embeddings. Anything over that,\n",
    "we should begin looking at Vector Databases."
   ]
  },
  {
   "cell_type": "markdown",
   "metadata": {},
   "source": [
    "# 2. RAG - Search and Answer\n",
    "RAG goal: Retrieve relevant passages from your uploaded documents based on a user query and use those passages to augment the original query/prompt with the right context to help answer the query."
   ]
  },
  {
   "cell_type": "markdown",
   "metadata": {},
   "source": [
    "## Similarity Search\n",
    "Embeddings can be used for almost any kind of data (text, audio, images, videos, etc.).\n",
    "\n",
    "We can compare embeddings using similarity search (AKA semantic search, vector search) to find the embeddings in the reference documents most similar to our prompt.\n",
    "\n",
    "The benefit to this over traditional keyword search is that it can pick up the semantics (meaning) of our prompt rather than just words. E.g., if we are talking about fruits, it can bring up many things about apples, oranges, carbs, etc. without those keywords being explicitly stated."
   ]
  },
  {
   "cell_type": "code",
   "execution_count": 2,
   "metadata": {},
   "outputs": [],
   "source": [
    "import random\n",
    "import torch\n",
    "import numpy as np\n",
    "import pandas as pd\n",
    "\n",
    "device = \"cuda\" if torch.cuda.is_available() else \"cpu\"\n",
    "\n",
    "# Import texts and embedding df \n",
    "# We don't need to if ran code above, but can start here if we \n",
    "# already have our reference data embedded and just want to load it\n",
    "\n",
    "text_chunks_and_embeddings_df = pd.read_csv(\"text_chunks_and_embeddings_df.csv\")\n",
    "\n",
    "# convert embedding column into an np.array (loads as string when from CSV)\n",
    "text_chunks_and_embeddings_df[\"embedding\"] = text_chunks_and_embeddings_df[\"embedding\"].apply(lambda x: np.fromstring(x.strip(\"[]\"), sep=\" \"))\n",
    "\n",
    "# convert our embeddings into a torch.tensor\n",
    "embeddings = torch.tensor(np.stack(text_chunks_and_embeddings_df[\"embedding\"]), dtype= torch.float32, device=device)\n",
    "\n",
    "# convert df to list of dicts\n",
    "pages_and_chunks = text_chunks_and_embeddings_df.to_dict(orient='records')"
   ]
  },
  {
   "cell_type": "code",
   "execution_count": 3,
   "metadata": {},
   "outputs": [
    {
     "data": {
      "text/plain": [
       "'cuda'"
      ]
     },
     "execution_count": 3,
     "metadata": {},
     "output_type": "execute_result"
    }
   ],
   "source": [
    "device"
   ]
  },
  {
   "cell_type": "code",
   "execution_count": 4,
   "metadata": {},
   "outputs": [
    {
     "data": {
      "text/plain": [
       "torch.Size([1680, 768])"
      ]
     },
     "execution_count": 4,
     "metadata": {},
     "output_type": "execute_result"
    }
   ],
   "source": [
    "embeddings\n",
    "embeddings.shape"
   ]
  },
  {
   "cell_type": "code",
   "execution_count": 5,
   "metadata": {},
   "outputs": [
    {
     "name": "stderr",
     "output_type": "stream",
     "text": [
      "c:\\Users\\georg\\anaconda3\\envs\\simple-local-rag\\Lib\\site-packages\\huggingface_hub\\file_download.py:1142: FutureWarning: `resume_download` is deprecated and will be removed in version 1.0.0. Downloads always resume when possible. If you want to force a new download, use `force_download=True`.\n",
      "  warnings.warn(\n",
      "c:\\Users\\georg\\anaconda3\\envs\\simple-local-rag\\Lib\\site-packages\\huggingface_hub\\file_download.py:1142: FutureWarning: `resume_download` is deprecated and will be removed in version 1.0.0. Downloads always resume when possible. If you want to force a new download, use `force_download=True`.\n",
      "  warnings.warn(\n"
     ]
    }
   ],
   "source": [
    "from sentence_transformers import util, SentenceTransformer\n",
    "\n",
    "embedding_model = SentenceTransformer(model_name_or_path=\"all-mpnet-base-v2\",\n",
    "                                      device=device)"
   ]
  },
  {
   "cell_type": "markdown",
   "metadata": {},
   "source": [
    "Embedding model is ready to go!\n",
    "\n",
    "Let's create a small semantic search pipeline.\n",
    "\n",
    "We want to search for a query (e.g., \"macronutrient functions\") and get back relevant passages from our textbook.\n",
    "\n",
    "We do the following steps:\n",
    "1. Define a query string.\n",
    "2. Turn the query string into an embedding.\n",
    "3. Perform a similarity search between query embedding and text embedding (dot product or cosine similarity)\n",
    "4. Sort the results in descending order."
   ]
  },
  {
   "cell_type": "code",
   "execution_count": 32,
   "metadata": {},
   "outputs": [
    {
     "name": "stdout",
     "output_type": "stream",
     "text": [
      "Query: What is the healthies diet for a 25 year old man?\n"
     ]
    }
   ],
   "source": [
    "# 1. Define the query string\n",
    "query = \"What is the healthies diet for a 25 year old man?\"\n",
    "print(f'Query: {query}')"
   ]
  },
  {
   "cell_type": "code",
   "execution_count": 33,
   "metadata": {},
   "outputs": [],
   "source": [
    "# 2. Embed the query\n",
    "# Note it is very important to embed your query with the same model you embedded your reference materials with\n",
    "\n",
    "query_embedding = embedding_model.encode(query, convert_to_tensor=True, device=device)"
   ]
  },
  {
   "cell_type": "markdown",
   "metadata": {},
   "source": [
    "Note: To use dot product for comparison, ensure you have the same dtype. \n",
    "\n",
    "Originally, we had torch.float64 for our embeddings and torch.float32 for our query embeddings so we couldn't do the dot product comparison."
   ]
  },
  {
   "cell_type": "code",
   "execution_count": 34,
   "metadata": {},
   "outputs": [
    {
     "name": "stdout",
     "output_type": "stream",
     "text": [
      "[INFO] Time taken to get scores on 1680 embeddings: 0.00075 seconds.\n"
     ]
    }
   ],
   "source": [
    "# 3. Get similarity scores between our query embedding and all text chunks embeddings\n",
    "from time import perf_counter as timer\n",
    "\n",
    "start_time = timer()\n",
    "dot_scores = util.dot_score(a = query_embedding, b = embeddings)[0]\n",
    "end_time = timer()\n",
    "\n",
    "print(f\"[INFO] Time taken to get scores on {len(embeddings)} embeddings: {end_time-start_time:.5f} seconds.\")"
   ]
  },
  {
   "cell_type": "markdown",
   "metadata": {},
   "source": [
    "You can see that the time to do similarity search is not prohibitive at all, even if we have 100k-1M embeddings. However, if we get much larger than that, we should start looking at vector databases.\n",
    "\n",
    "The prohibitive part of a RAG pipeline (on a new query) is typically the generation part.\n",
    "\n",
    "If we start getting into 10M+, we want to start looking at indeces (approximate nearest neighbor search) like FAISS."
   ]
  },
  {
   "cell_type": "code",
   "execution_count": 35,
   "metadata": {},
   "outputs": [
    {
     "data": {
      "text/plain": [
       "torch.return_types.topk(\n",
       "values=tensor([0.6090, 0.5878, 0.5795, 0.5738, 0.5697], device='cuda:0'),\n",
       "indices=tensor([1297, 1484, 1046, 1321,   78], device='cuda:0'))"
      ]
     },
     "execution_count": 35,
     "metadata": {},
     "output_type": "execute_result"
    }
   ],
   "source": [
    "# 4. Get the top similar embeddings from our reference material(s)\n",
    "top_results_dot_product = torch.topk(dot_scores, k=5)\n",
    "top_results_dot_product"
   ]
  },
  {
   "cell_type": "code",
   "execution_count": 48,
   "metadata": {},
   "outputs": [],
   "source": [
    "pages_and_chunks[top_results_dot_product.indices[0].item()]\n",
    "top_1_result_dot_product_page_number = pages_and_chunks[top_results_dot_product.indices[0]]['page_number']\n"
   ]
  },
  {
   "cell_type": "code",
   "execution_count": 37,
   "metadata": {},
   "outputs": [],
   "source": [
    "# Make our vector search results pretty\n",
    "import textwrap\n",
    "\n",
    "def print_wrapped(text, wrap_length = 80):\n",
    "    wrapped_text = textwrap.fill(text, wrap_length)\n",
    "    print(wrapped_text)"
   ]
  },
  {
   "cell_type": "code",
   "execution_count": 38,
   "metadata": {},
   "outputs": [
    {
     "name": "stdout",
     "output_type": "stream",
     "text": [
      "Query: \"What is the healthies diet for a 25 year old man?\"\n",
      "\n",
      "Results:\n",
      "Score: 0.6090\n",
      "Text: \n",
      "their forties notice a decline in endurance, the onset of wear-and-\n",
      "tear injuries (such as osteoarthritis), and changes in the digestive\n",
      "system. Wounds and other injuries also take longer to heal. Body\n",
      "composition changes due to fat deposits in the trunk. To maintain\n",
      "health and wellness during the middle-aged years and beyond, it is\n",
      "important to: • maintain a healthy body weight • consume nutrient-\n",
      "dense foods • drink alcohol moderately or not at all • be a nonsmoker\n",
      "• engage in moderate physical activity at least 150 minutes per week\n",
      "Energy and Macronutrients The energy requirements for ages thirty-one\n",
      "to fifty are 1,800 to 2,200 calories for women and 2,200 to 3,000\n",
      "calories for men, depending on activity level. These estimates do not\n",
      "include women who are pregnant or breastfeeding. Middle-aged adults\n",
      "must rely on healthy food sources to meet these needs. In many parts\n",
      "of North America, typical dietary patterns do not match the\n",
      "recommended guidelines. For example, five foods—iceberg lettuce,\n",
      "frozen potatoes, fresh potatoes, potato chips, and canned\n",
      "tomatoes—account for over half of all vegetable intake.3 Following 3.\n",
      "Drewnowski A, Darmon, N. (2005). Food Choices and Diet Cost: an\n",
      "Economic Analysis.\n",
      "Page Number: 914\n",
      "\n",
      "\n",
      "Score: 0.5878\n",
      "Text: \n",
      "Comparing Diets UNIVERSITY OF HAWAI‘I AT MĀNOA FOOD SCIENCE AND HUMAN\n",
      "NUTRITION PROGRAM AND HUMAN NUTRITION PROGRAM Diet Trends and Health\n",
      "In the past, health was regarded merely as the absence of illness.\n",
      "However, a growing understanding of the complexity and potential of\n",
      "the human condition has prompted a new way of thinking about health.\n",
      "Today, we focus on the idea of wellness, which involves a great deal\n",
      "more than just not being sick. Wellness is a state of optimal well-\n",
      "being that enables an individual to maximize their potential. This\n",
      "concept includes a host of dimensions—physical, mental, emotional,\n",
      "social, environmental, and spiritual—which affect one’s quality of\n",
      "life.1 Striving for wellness begins with an examination of dietary\n",
      "choices. Dietary Food Trends Hundreds of years ago, when food was less\n",
      "accessible and daily life required much more physical activity, people\n",
      "worried less about 1. Understanding Wellness. University of Illinois\n",
      "at Urbana- Champaign, McKinley Health Center. 2011 The Board of\n",
      "Trustees of the University of Illinois at Urbana-\n",
      "Champaign.https://mckinley.illinois.edu/health- education/wellness.\n",
      "Page Number: 1046\n",
      "\n",
      "\n",
      "Score: 0.5795\n",
      "Text: \n",
      "Image by Allison Calabrese / CC BY 4.0 Building a Healthy Plate:\n",
      "Choose Nutrient-Dense Foods Click on the different food groups listed\n",
      "to view their food gallery: • Fruits • Grains • Dairy • Vegetables •\n",
      "Protein Planning a healthy diet using the MyPlate approach is not\n",
      "difficult. According to the icon, half of your plate should have\n",
      "fruits and vegetables, one-quarter should have whole grains, and one-\n",
      "quarter should have protein. Dairy products should be low-fat or non-\n",
      "fat. The ideal diet gives you the most nutrients within the fewest\n",
      "calories. This means choosing nutrient-rich foods. Fill half of your\n",
      "plate with red, orange, and dark green vegetables and fruits, such as\n",
      "kale, bok choy, kalo (taro), tomatoes, sweet 746 | MyPlate Planner\n",
      "Page Number: 746\n",
      "\n",
      "\n",
      "Score: 0.5738\n",
      "Text: \n",
      "Even if past nutritional and lifestyle choices were not aligned with\n",
      "dietary guidelines, older adults can still do a great deal to reduce\n",
      "their risk of disability and chronic disease. As we age, we tend to\n",
      "lose lean body mass. This loss of muscle and bone can have critical\n",
      "health implications. For example, a decrease in body strength can\n",
      "result in an increased risk for fractures because older adults with\n",
      "weakened muscles are more likely to fall, and to sustain serious\n",
      "injuries when they do. However, improving your diet while increasing\n",
      "physical activity helps to control weight, reduce fat mass, and\n",
      "maintain muscle and bone mass. There are a number of changes middle-\n",
      "aged adults can implement, even after years of unhealthy choices.\n",
      "Choices include eating more dark, green, leafy vegetables,\n",
      "substituting high-fat proteins with lean meats, poultry, fish, beans,\n",
      "and nuts, and engaging in moderate physical activity for thirty\n",
      "minutes per day, several days per week. The resulting improvements in\n",
      "body composition will go a long way toward providing greater\n",
      "protection against falls and fractures, and helping to ward off\n",
      "cardiovascular disease and hypertension, among other chronic\n",
      "conditions.9 It Too Late to Improve Our Health through Nutrition?.\n",
      "American Journal of Clinical Nutrition, 86, 1572S–6S. 9. Rivlin, RS. (\n",
      "Page Number: 928\n",
      "\n",
      "\n",
      "Score: 0.5697\n",
      "Text: \n",
      "Achieving a Healthy Diet UNIVERSITY OF HAWAI‘I AT MĀNOA FOOD SCIENCE\n",
      "AND HUMAN NUTRITION PROGRAM AND HUMAN NUTRITION PROGRAM Achieving a\n",
      "healthy diet is a matter of balancing the quality and quantity of food\n",
      "that is eaten. There are five key factors that make up a healthful\n",
      "diet: 1. A diet must be adequate, by providing sufficient amounts of\n",
      "each essential nutrient, as well as fiber and adequate calories. 2. A\n",
      "balanced diet results when you do not consume one nutrient at the\n",
      "expense of another, but rather get appropriate amounts of all\n",
      "nutrients. 3. Calorie control is necessary so that the amount of\n",
      "energy you get from the nutrients you consume equals the amount of\n",
      "energy you expend during your day’s activities. 4. Moderation means\n",
      "not eating to the extremes, neither too much nor too little. 5.\n",
      "Page Number: 30\n",
      "\n",
      "\n"
     ]
    }
   ],
   "source": [
    "print(f'Query: \"{query}\"\\n')\n",
    "print(\"Results:\")\n",
    "# Loop through the zipped together scores and indices\n",
    "for value, idx in zip(top_results_dot_product[0], top_results_dot_product[1]):\n",
    "    print(f'Score: {value:.4f}')\n",
    "    print(f'Text: ')\n",
    "    print_wrapped(pages_and_chunks[idx][\"sentence_chunk\"])\n",
    "    print(f'Page Number: {pages_and_chunks[idx][\"page_number\"]}')\n",
    "    print(\"\\n\")"
   ]
  },
  {
   "cell_type": "markdown",
   "metadata": {},
   "source": [
    "Note: We could improve the order of results by using a re-ranking model. This is a model specifcally trained to take the top k semantic results and rank them in a new order of most likely top-1 to least likely top-1. Mixed Bread AI reranker is a good way to do this."
   ]
  },
  {
   "cell_type": "code",
   "execution_count": 49,
   "metadata": {},
   "outputs": [
    {
     "data": {
      "image/png": "[encoded data removed]",
      "text/plain": [
       "<Figure size 1300x1000 with 1 Axes>"
      ]
     },
     "metadata": {},
     "output_type": "display_data"
    }
   ],
   "source": [
    "import fitz #pymupdf library\n",
    "\n",
    "# open PDF and load target\n",
    "pdf_path = \"human-nutrition-text.pdf\"\n",
    "doc = fitz.open(pdf_path)\n",
    "page = doc.load_page(top_1_result_dot_product_page_number+41) # note our page numbers of PDF start at 41\n",
    "\n",
    "# get the image of the page\n",
    "img = page.get_pixmap(dpi=300)\n",
    "\n",
    "# # Save image (optional)\n",
    "# img.save(\"output_filename.png\")\n",
    "\n",
    "doc.close()\n",
    "\n",
    "# convert pixmap to numpy array\n",
    "img_array = np.frombuffer(img.samples_mv,\n",
    "                          dtype=np.uint8).reshape((img.h, img.w, img.n))\n",
    "\n",
    "\n",
    "# Display image using matplotlib\n",
    "import matplotlib.pyplot as plt\n",
    "plt.figure(figsize=(13, 10))\n",
    "plt.imshow(img_array)\n",
    "plt.title(f'Query: \"{query}\" | Most Relevant Page:')\n",
    "plt.axis(\"off\")\n",
    "plt.show()"
   ]
  }
 ],
 "metadata": {
  "kernelspec": {
   "display_name": "simple-local-rag",
   "language": "python",
   "name": "python3"
  },
  "language_info": {
   "codemirror_mode": {
    "name": "ipython",
    "version": 3
   },
   "file_extension": ".py",
   "mimetype": "text/x-python",
   "name": "python",
   "nbconvert_exporter": "python",
   "pygments_lexer": "ipython3",
   "version": "3.11.10"
  }
 },
 "nbformat": 4,
 "nbformat_minor": 2
}
